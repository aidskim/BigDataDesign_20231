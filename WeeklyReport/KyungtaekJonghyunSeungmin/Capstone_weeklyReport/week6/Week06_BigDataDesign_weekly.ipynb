{
 "cells": [
  {
   "cell_type": "markdown",
   "metadata": {},
   "source": [
    "# Weekly Report\n",
    "- Team members: 21700442 오경택, 21700741 최종현 22000624 장승민\n",
    "- Meeting Date: 230911\n",
    "- Project Name: 공용자전거 대여 데이터를 기반으로한 서울시 신설 최적의 자전거도로 입지 제안\n",
    "- Project Goal: GCN 모델(공간,시간 데이터 사용)을 활용한 대여소별 서울시 공용자전거 대여량 예측"
   ]
  },
  {
   "cell_type": "markdown",
   "metadata": {},
   "source": [
    "### Weekly plan (Fill this in)\n",
    "| Week    | Schedule        | Note                      |\n",
    "|---------|-----------------|---------------------------|\n",
    "| Week 1  | 간이 GCN 모델 코드 동작, GPU 개선, LSTM 코드 개선  | 종현: 간이 GCN 모델 코드 동작 완료, 사전 논문 전처리 코드 이해 및 적용 완료 <br> 승민: LSTM 코드 구현 완료 <br> 경택: conda를 docker 변환, ARIMA 모델 코드 구현 |\n",
    "| Week 2  | 간이 GCN 모델 구현 완료, LSTM 코드 구현 완료, GCN을 제외한 다른 비교 모델 코드 구현 시작 |종현: GCN 라플라시안 행렬 적용, 날씨, 거치소 별 공간적 변수 적용 <br> 승민: LSTM 코드 구현 <br> 경택: 아리마 코드 구현 |\n",
    "| Week 3  | GCN 모델 구현 완료, GCN을 제외한 다른 비교 모델 코드 구현 진행 | 종현: GCN sliding window 적용, GCN 주별 데이터 포함 <br> 승민: LSTM 코드 구현, 자전거도로 데이터 처리 <br> 경택: 아리마, xG boost 코드 구현      |\n",
    "| Week 4  | GCN을 제외한 다른 비교 모델 코드 구현 완료 | 종현: GCN sliding window 적용, GCN 하이퍼파라미터 최적화 <br> 승민: 날씨데이터 4분할, 자전거도로 데이터 처리 <br> 경택: 아리마, xGboost 하이퍼파라미터 최적화 | \n",
    "| Week 5  | 논문 작성, 모델 점검 및 수정, 사후 점검 | 종현: 1차 하이퍼파라미터 최적화 완료 <br> 승민: 자전거도로 데이터 제작, LSTM sliding window <br> 경택: xGboost sliding window, 그리드 서치                          |\n",
    "| Week 6  | 논문 작성, 모델 점검 및 수정, 사후 점검 |                           |\n",
    "| Week 7  | 논문 작성, 모델 점검 및 수정, 사후 점검      |                           |\n",
    "| Week 8  |                  |                           |\n",
    "| Week 9  |                  |                           |\n",
    "| Week 10 |                 |                           |\n",
    "| Week 11 |                 |                           |\n",
    "| Week 12 |                 |                           |\n",
    "| Week 13 |                 |                           |\n",
    "| Week 14 |                 |                           |\n",
    "| Week 15 |                 |                           |\n",
    "| Week 16 |                 |                           |\n"
   ]
  },
  {
   "cell_type": "markdown",
   "metadata": {},
   "source": [
    "### Summary of previous meeting\n",
    "- Previous discussion:\n",
    "  - 하이퍼 파라미터 최적화: GridSearch 사용\n",
    "  - 하이퍼파라미터 최적화 시 추세를 보며 적정값의 감을 익히기\n",
    "  - 자전거 도로 개수를 위한 거리 계산시 점과 점사이의 거리가 아닌 점과 직선 사이의 거리로 구하기  \n",
    "  - xGBoost의 feature importance로 밝힌 feature가 GCN에서 주요한 feature 일수도, 아닐수도 있음  \n",
    "\n",
    "- Comments from:\n",
    "  - 모델을 만들면서 논문을 쓰기 시작하길 권함.\n",
    "- Previous plan:\n",
    "  - 각자 모델 개인의 역량대로 보완해서 가져오기"
   ]
  },
  {
   "cell_type": "markdown",
   "metadata": {},
   "source": [
    "### Summary of working progress  \n",
    "\n",
    "#### process 1: 자전거도로 데이터\n",
    "- 지난 데이터: 도로가 꺾이는 위치에 찍혀있는 점들의 개수를 count하여 DF 제작\n",
    "  - 피드백: 꺾이는 점이 속해져 있지 않고 직선의 도로만 있는 경우가 포함되기 어렵다\n",
    "- 해결: 도로가 꺾이는 위치에 찍혀있는 점이 있다면 count\n",
    "  - 없다면, 두 점 사이의 직선을 구하여 정류장과 수선의 발을 통해 직선위의 점 찾기\n",
    "  - 정류장의 위경도와 수선의 발 위경도를 가지고 반경 500m 이내에 있는지 count\n",
    "  - 위의 방법으로 자전거도로 데이터프레임 제작 완료\n",
    "\n",
    "#### process 2: LSTM\n",
    "- X: 전 3일의 대여량, 예측하고자 하는 날의 날씨 데이터\n",
    "- y: 예측하고자 하는 날의 대여량\n",
    "- 문제: sequence_length 설정X\n",
    "  - \"RuntimeError: For unbatched 2-D input, hx and cx should also be 2-D but got (3-D, 3-D) tensors\" 에러\n",
    "  - 해결해야 하는 방법 탐색중\n",
    "\n",
    "#### process 3: GCN\n",
    "- 1차 하이퍼파라미터 최적화 완료\n",
    "    - 하이퍼파라미터 최적화 항목: GCN hidden layer 개수, FCN hidden layer, node 개수, weather_value 포함 개수, sliding window 범위, epoch, dropout, optimizer(learning rate, weighy_decay)\n",
    "    - 최적화 방법: for문을 돌리며 위의 항목 순서대로 한개씩 하이퍼파라미터를 최적화를 함.\n",
    "\n",
    "#### process 4: XGboost 모델링\n",
    "- sliding window: 대여량 feature + 날씨 feature\n",
    "- Grid Search: max_depth, gamma, min_child_weight, subsample, n_estimators, learning_rate\n",
    "- feature importance\n",
    "  -> 이를 바탕으로 타 논문에서 사용하는 Recursive Feature Elimination 적용"
   ]
  },
  {
   "cell_type": "markdown",
   "metadata": {},
   "source": [
    "### Pending assignments or requests\n",
    "- pending assingments: 전체 데이터에서 돌려보기 위해서 GPU 문제가 해결되어야 함.\n",
    "    Gpu 관련 이슈\n",
    "  - 사용할 수 있는 Gpu가 있다고 뜨고, 이용가능하다고 뜸.\n",
    "  - 하지만 서버에서 코드를 돌릴 때, \"Pytorch 내부 오류\"라고 표기 Cuda랑 환경이 안 맞는 것일 가능성 존재 확인\n",
    "  - 현 서버의 cuda 버전이 11.7 이어서 pytorch 버전을 cuda 11.7 버전에 맞게 다운로드하였지만 똑같은 에러 발생. -> 그래도 에러가 나온다.  \n",
    "- requests: \n"
   ]
  },
  {
   "cell_type": "markdown",
   "metadata": {},
   "source": []
  }
 ],
 "metadata": {
  "kernelspec": {
   "display_name": "Python 3 (ipykernel)",
   "language": "python",
   "name": "python3"
  },
  "language_info": {
   "codemirror_mode": {
    "name": "ipython",
    "version": 3
   },
   "file_extension": ".py",
   "mimetype": "text/x-python",
   "name": "python",
   "nbconvert_exporter": "python",
   "pygments_lexer": "ipython3",
   "version": "3.9.13"
  }
 },
 "nbformat": 4,
 "nbformat_minor": 2
}
