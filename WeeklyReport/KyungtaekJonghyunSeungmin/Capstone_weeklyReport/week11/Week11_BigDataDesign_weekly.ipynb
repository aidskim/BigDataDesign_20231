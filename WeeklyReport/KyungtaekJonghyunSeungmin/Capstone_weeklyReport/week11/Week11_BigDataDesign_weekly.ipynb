{
 "cells": [
  {
   "cell_type": "markdown",
   "metadata": {},
   "source": [
    "# Weekly Report\n",
    "- Team members: 21700442 오경택, 21700741 최종현 22000624 장승민\n",
    "- Meeting Date: 230911\n",
    "- Project Name: 공용자전거 대여 데이터를 기반으로한 서울시 신설 최적의 자전거도로 입지 제안\n",
    "- Project Goal: GCN 모델(공간,시간 데이터 사용)을 활용한 대여소별 서울시 공용자전거 대여량 예측"
   ]
  },
  {
   "cell_type": "markdown",
   "metadata": {},
   "source": [
    "### Weekly plan (Fill this in)\n",
    "| Week    | Schedule        | Note                      |\n",
    "|---------|-----------------|---------------------------|\n",
    "| Week 1  | 간이 GCN 모델 코드 동작, GPU 개선, LSTM 코드 개선  | 종현: 간이 GCN 모델 코드 동작 완료, 사전 논문 전처리 코드 이해 및 적용 완료 <br> 승민: LSTM 코드 구현 완료 <br> 경택: conda를 docker 변환, ARIMA 모델 코드 구현 |\n",
    "| Week 2  | 간이 GCN 모델 구현 완료, LSTM 코드 구현 완료, GCN을 제외한 다른 비교 모델 코드 구현 시작 |종현: GCN 라플라시안 행렬 적용, 날씨, 거치소 별 공간적 변수 적용 <br> 승민: LSTM 코드 구현 <br> 경택: 아리마 코드 구현 |\n",
    "| Week 3  | GCN 모델 구현 완료, GCN을 제외한 다른 비교 모델 코드 구현 진행 | 종현: GCN sliding window 적용, GCN 주별 데이터 포함 <br> 승민: LSTM 코드 구현, 자전거도로 데이터 처리 <br> 경택: 아리마, xG boost 코드 구현      |\n",
    "| Week 4  | GCN을 제외한 다른 비교 모델 코드 구현 완료 | 종현: GCN sliding window 적용, GCN 하이퍼파라미터 최적화 <br> 승민: 날씨데이터 4분할, 자전거도로 데이터 처리 <br> 경택: 아리마, xG boost 하이퍼파라미터 최적화 | \n",
    "| Week 5  | 논문 작성, 모델 점검 및 수정, 사후 점검 | 종현: 1차 GCN 하이퍼파라미터 최적화 <br> 승민: 시계열 데이터분리, LSTM 모델 구현 <br> 경택: Sliding window 구현                          |\n",
    "| Week 6  | 논문 작성, 모델 점검 및 수정, 사후 점검 | 종현: GPU 이슈 해결 <br> 승민: LSTM 모델 구현 <br> 경택: Arima, xG boost 모델구현                      |\n",
    "| Week 7  | 논문 작성, 모델 점검 및 수정, 사후 점검      |  종현: GCN 6개 대여소, 하루에 대한 하이퍼파라미터 최적화 완료 <br> 승민: LSTM 모델 구현 <br> 경택: Arima, xG boost 모델구현                       |\n",
    "| Week 8  |                  |  종현: GPU 이슈 해결, 5월31일 기준 모든 대여소에 대한 하이퍼파라미터 최적화 <br> 승민: LSTM 모델 구현 <br> 경택: CNN2d 모델구현                         |\n",
    "| Week 9  |                  |  종현: GCN - pro 하이퍼파라미터 최적화 완료 <br> 승민: LSTM 하이퍼파라미터 최적화 진행 <br> 경택: XG-Boost, CNN-2d 하이퍼파라미터 최적화 진행                        |\n",
    "| Week 10 |                 |  종현: Methodology, Experimental setting, Result 작성 <br> 승민: LSTM RMSE 결과값 출력, Data collection and Preprocessing, Result 작성 <br> Abstract, Introduction 작성  |\n",
    "| Week 11 |                 |                           |\n",
    "| Week 12 |                 |                           |\n",
    "| Week 13 |                 |                           |\n",
    "| Week 14 |                 |                           |\n",
    "| Week 15 |                 |                           |\n",
    "| Week 16 |                 |                           |\n"
   ]
  },
  {
   "cell_type": "markdown",
   "metadata": {},
   "source": [
    "### Summary of previous meeting\n",
    "- Summary of previous meeting\n",
    "- Previous discussion:\n",
    "  1. GCN-pro 하이퍼파라미터 조정\n",
    "  2. GCN-pro 주별 데이터 구성: 평균 vs 전체 -> 전체\n",
    "  3. GPU 확보가능한 서버를 위해서 hgu02의 계정 생성\n",
    "- Comments from:\n",
    "  - 비교모델의 sliding window, epoch 을 맞출 필요 없이 각 모델마다의 최적의 파라미터를 설정해볼 것\n",
    "\n",
    "- Previous plan:\n",
    "  - 한국 인공지능 학회 학술대회 논문 기고 (11.)"
   ]
  },
  {
   "cell_type": "markdown",
   "metadata": {},
   "source": [
    "### Summary of working progress  \n",
    "\n",
    "#### process 1: 논문 작성\n",
    "1. abstract\n",
    "- 연구의 궁극적인 목표\n",
    "- 기존의 방식의 문제점 + 우리 연구의 기여\n",
    "- 모델 설명 및 실험 평가 방법(비교했다. 유효성을 입증했다.)\n",
    "2. Introduction\n",
    "- 해결하고자 하는 주제가 핫한 이유 \n",
    "- 현재 주제에서의 어려움\n",
    "- 우리 모델의 필요성\n",
    "- 논문 프로세스 요약\n",
    "3. Data Collection and Preprocessing\n",
    "- Bicycle rental history data / spatial data / time series data 분리해서 작성.\n",
    "- 각 데이터별 전처리가 어떻게 들어갔는지 글로 설명\n",
    "- 정리된 표를 만들었었지만 차지하는 page 및 작성방법으로 인해 제거해 놓은 상태\n",
    "4. Methodology \n",
    "- Framework 목차에서 우리가 제안하는 GCN 모델의 개요를 넣음.\n",
    "- Graph convolution network 목차는 GCN 모델의 장점과 왜 GCN 모델을 선택하였는지 설명함.\n",
    "- Adjacency Matrix: Interaction among stations 목차는 우리가 구현한 인접행렬에 대해 수식을 넣어 설명함. symmetric laplacian matrix에 대한 자세한 설명 기입함.\n",
    "- Feature Matrix 1: spatial feature by station level 목차는 공간적인 행렬을 어떻게 구성하였는지 기입함.\n",
    "- Feature Matrix 2: 과거 자전거 대여 이력 목차는 과거 자전거 대여 이력 행렬을 어떻게 구현하였는지 설명함.\n",
    "- Feature Matrix 1와 Feature Matrix 2을 합친 Feature Matrix에 대한 설명\n",
    "- GCN propagation 목차는 GCN에서 인접행렬과 특성행렬이 어떻게 곱하여지는지 설명함.\n",
    "- Weather variable 목차는 날씨 변수를 어떻게 GCN 모델 output과 통합하였는지 설명함.\n",
    "5. Experimental Settings\n",
    "- GCN의 하이퍼파라미터를 어떻게 최적화하였는지 설명함.\n",
    "- 설정한 하이퍼파라미터의 종류와 가장 베스트 조합을 기입함.\n",
    "6. Result\n",
    "- 각 모델별 RMSE 결과를 표로 정리해서 제시할 예정.\n",
    "- GCN-pro: 15.48\n",
    "- LSTM: 16.9\n",
    "\n",
    "#### process 2: Sliding Window 함수 변경 - XG-Boost, CNN\n",
    " - 기존의 for-loop를 skilearn의 TimeSeriesSplit 으로 변경"
   ]
  },
  {
   "cell_type": "markdown",
   "metadata": {},
   "source": [
    "### Pending assignments or requests\n",
    "- pending assingments: \n",
    "- requests: \n"
   ]
  },
  {
   "cell_type": "markdown",
   "metadata": {},
   "source": []
  }
 ],
 "metadata": {
  "kernelspec": {
   "display_name": "Python 3 (ipykernel)",
   "language": "python",
   "name": "python3"
  },
  "language_info": {
   "codemirror_mode": {
    "name": "ipython",
    "version": 3
   },
   "file_extension": ".py",
   "mimetype": "text/x-python",
   "name": "python",
   "nbconvert_exporter": "python",
   "pygments_lexer": "ipython3",
   "version": "3.11.2"
  }
 },
 "nbformat": 4,
 "nbformat_minor": 2
}
