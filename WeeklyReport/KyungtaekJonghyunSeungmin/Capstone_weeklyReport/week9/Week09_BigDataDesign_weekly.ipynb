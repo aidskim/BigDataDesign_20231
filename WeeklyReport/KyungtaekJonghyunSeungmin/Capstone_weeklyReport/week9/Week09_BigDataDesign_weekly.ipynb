{
 "cells": [
  {
   "cell_type": "markdown",
   "metadata": {},
   "source": [
    "# Weekly Report\n",
    "- Team members: 21700442 오경택, 21700741 최종현 22000624 장승민\n",
    "- Meeting Date: 230911\n",
    "- Project Name: 공용자전거 대여 데이터를 기반으로한 서울시 신설 최적의 자전거도로 입지 제안\n",
    "- Project Goal: GCN 모델(공간,시간 데이터 사용)을 활용한 대여소별 서울시 공용자전거 대여량 예측"
   ]
  },
  {
   "cell_type": "markdown",
   "metadata": {},
   "source": [
    "### Weekly plan (Fill this in)\n",
    "| Week    | Schedule        | Note                      |\n",
    "|---------|-----------------|---------------------------|\n",
    "| Week 1  | 간이 GCN 모델 코드 동작, GPU 개선, LSTM 코드 개선  | 종현: 간이 GCN 모델 코드 동작 완료, 사전 논문 전처리 코드 이해 및 적용 완료 <br> 승민: LSTM 코드 구현 완료 <br> 경택: conda를 docker 변환, ARIMA 모델 코드 구현 |\n",
    "| Week 2  | 간이 GCN 모델 구현 완료, LSTM 코드 구현 완료, GCN을 제외한 다른 비교 모델 코드 구현 시작 |종현: GCN 라플라시안 행렬 적용, 날씨, 거치소 별 공간적 변수 적용 <br> 승민: LSTM 코드 구현 <br> 경택: 아리마 코드 구현 |\n",
    "| Week 3  | GCN 모델 구현 완료, GCN을 제외한 다른 비교 모델 코드 구현 진행 | 종현: GCN sliding window 적용, GCN 주별 데이터 포함 <br> 승민: LSTM 코드 구현, 자전거도로 데이터 처리 <br> 경택: 아리마, xG boost 코드 구현      |\n",
    "| Week 4  | GCN을 제외한 다른 비교 모델 코드 구현 완료 | 종현: GCN sliding window 적용, GCN 하이퍼파라미터 최적화 <br> 승민: 날씨데이터 4분할, 자전거도로 데이터 처리 <br> 경택: 아리마, xG boost 하이퍼파라미터 최적화 | \n",
    "| Week 5  | 논문 작성, 모델 점검 및 수정, 사후 점검 | 종현: 1차 GCN 하이퍼파라미터 최적화 <br> 승민: 시계열 데이터분리, LSTM 모델 구현 <br> 경택: Sliding window 구현                          |\n",
    "| Week 6  | 논문 작성, 모델 점검 및 수정, 사후 점검 | 종현: GPU 이슈 해결 <br> 승민: LSTM 모델 구현 <br> 경택: Arima, xG boost 모델구현                      |\n",
    "| Week 7  | 논문 작성, 모델 점검 및 수정, 사후 점검      |  종현: GCN 6개 대여소, 하루에 대한 하이퍼파라미터 최적화 완료 <br> 승민: LSTM 모델 구현 <br> 경택: Arima, xG boost 모델구현                       |\n",
    "| Week 8  |                  |  종현: GPU 이슈 해결, 5월31일 기준 모든 대여소에 대한 하이퍼파라미터 최적화 <br> 승민: LSTM 모델 구현 <br> 경택: CNN2d 모델구현                         |\n",
    "| Week 9  |                  |                           |\n",
    "| Week 10 |                 |                           |\n",
    "| Week 11 |                 |                           |\n",
    "| Week 12 |                 |                           |\n",
    "| Week 13 |                 |                           |\n",
    "| Week 14 |                 |                           |\n",
    "| Week 15 |                 |                           |\n",
    "| Week 16 |                 |                           |\n"
   ]
  },
  {
   "cell_type": "markdown",
   "metadata": {},
   "source": [
    "### Summary of previous meeting\n",
    "- Summary of previous meeting\n",
    "- Previous discussion:\n",
    "  - LSTM, XG-Boost, ARIMA 내에 들어가는 Feature 형태 정리 완료\n",
    "    - 각각의 경우에 대해 sample data를 활용한 RMSE 값 도출 완료\n",
    "  - GCN\n",
    "    - sample data를 활용한 RMSE값 도출 완료\n",
    "    - sample data 내에서 (6개의 거치소와 5월 31일)을 기준으로 잡은 hyper-parameter tuning 완료\n",
    "\n",
    "- Comments from:\n",
    "  - GCN 하이퍼파라미터 조정할 때, 단일 하이퍼파라미터만으로 조정하는 것보다 여러개의 하이퍼파라미터의 조합으로 조정을 해보아라.\n",
    "\n",
    "- Previous plan:\n",
    "  - 하이퍼파라미터 여러 개의 조합으로 최적화해보기\n",
    "  - LSTM, xGboost, ARIMA, CNN 모델 보완"
   ]
  },
  {
   "cell_type": "markdown",
   "metadata": {},
   "source": [
    "### Summary of working progress  \n",
    "\n",
    "#### process 1: GCN 주중/주말\n",
    "- 2022년 전체 데이터를 보았을 때, (월,토,일) 요일이 (화,수,목,금) 보다 대여량이 적었음.\n",
    "- 그래서 데이터셋을 (월,토,일)과 (화,수,목,금)으로 나눠서 모델을 돌려본 결과, RMSE값이 주중,주말을 나눴을 때보다 높았음.\n",
    "- 그래서 기존대로 주중, 주말을 나눠서 진행하기로 했음.\n",
    "\n",
    "#### process2: GCN 하이퍼파라미터\n",
    "- 하이퍼파라미터 조합\n",
    "  - Sliding window: 10 ~ 19\n",
    "  - 일별 대여량: 3~6일\n",
    "  - 주별 대여량: 1~5일\n",
    "  - Lr: 0.01, 0.05, 0.001\n",
    "\n",
    "- 하이퍼파라미터 조합을 위와 같이 하였고, 총 600개의 조합으로 돌렸음.\n",
    "- 하루 5월31일을 예측하며, 모든 대여소 기준으로 하이퍼파라미터를 최적화하는 중.\n",
    "- 앞으로의 계획: 전체 대여소 기준으로 하루의 수요량을 예측한 하이퍼파라미터 조합 중 좋은 조합들 기준으로 전체 데이터셋에서 돌려 최종 하이퍼파라미터를 뽑을 예정\n",
    "\n",
    "#### process3: GPU 문제 해결\n",
    "- 새로 컨네이너를 만들어 해결\n",
    "\n",
    "#### process 4: CNN2d 구현\n",
    "- CNN 2D 입력 input에 맞게 shape 조정\n",
    "- 기존의 비교 모델과 공통된 하이퍼파라미터 통일: bath_size(32), epoch(500)\n",
    "- 앞으로의 계획: CNN만의 하이퍼파라미터 추가 그리드 서치 예정: filter, kernel_size, pool_size, dense 뉴런 수\n"
   ]
  },
  {
   "cell_type": "markdown",
   "metadata": {},
   "source": [
    "### Pending assignments or requests\n",
    "- pending assingments: \n",
    "- requests: \n"
   ]
  },
  {
   "cell_type": "markdown",
   "metadata": {},
   "source": []
  }
 ],
 "metadata": {
  "kernelspec": {
   "display_name": "Python 3 (ipykernel)",
   "language": "python",
   "name": "python3"
  },
  "language_info": {
   "codemirror_mode": {
    "name": "ipython",
    "version": 3
   },
   "file_extension": ".py",
   "mimetype": "text/x-python",
   "name": "python",
   "nbconvert_exporter": "python",
   "pygments_lexer": "ipython3",
   "version": "3.9.13"
  }
 },
 "nbformat": 4,
 "nbformat_minor": 2
}
