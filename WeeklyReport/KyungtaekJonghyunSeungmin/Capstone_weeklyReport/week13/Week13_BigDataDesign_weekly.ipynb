{
 "cells": [
  {
   "cell_type": "markdown",
   "metadata": {},
   "source": [
    "# Weekly Report\n",
    "- Team members: 21700442 오경택, 21700741 최종현 22000624 장승민\n",
    "- Meeting Date: 230911\n",
    "- Project Name: 공용자전거 대여 데이터를 기반으로한 서울시 신설 최적의 자전거도로 입지 제안\n",
    "- Project Goal: GCN 모델(공간,시간 데이터 사용)을 활용한 대여소별 서울시 공용자전거 대여량 예측"
   ]
  },
  {
   "cell_type": "markdown",
   "metadata": {},
   "source": [
    "### Weekly plan (Fill this in)\n",
    "| Week    | Schedule        | Note                      |\n",
    "|---------|-----------------|---------------------------|\n",
    "| Week 1  | 간이 GCN 모델 코드 동작, GPU 개선, LSTM 코드 개선  | 종현: 간이 GCN 모델 코드 동작 완료, 사전 논문 전처리 코드 이해 및 적용 완료 <br> 승민: LSTM 코드 구현 완료 <br> 경택: conda를 docker 변환, ARIMA 모델 코드 구현 |\n",
    "| Week 2  | 간이 GCN 모델 구현 완료, LSTM 코드 구현 완료, GCN을 제외한 다른 비교 모델 코드 구현 시작 |종현: GCN 라플라시안 행렬 적용, 날씨, 거치소 별 공간적 변수 적용 <br> 승민: LSTM 코드 구현 <br> 경택: 아리마 코드 구현 |\n",
    "| Week 3  | GCN 모델 구현 완료, GCN을 제외한 다른 비교 모델 코드 구현 진행 | 종현: GCN sliding window 적용, GCN 주별 데이터 포함 <br> 승민: LSTM 코드 구현, 자전거도로 데이터 처리 <br> 경택: 아리마, xG boost 코드 구현      |\n",
    "| Week 4  | GCN을 제외한 다른 비교 모델 코드 구현 완료 | 종현: GCN sliding window 적용, GCN 하이퍼파라미터 최적화 <br> 승민: 날씨데이터 4분할, 자전거도로 데이터 처리 <br> 경택: 아리마, xG boost 하이퍼파라미터 최적화 | \n",
    "| Week 5  | 논문 작성, 모델 점검 및 수정, 사후 점검 | 종현: 1차 GCN 하이퍼파라미터 최적화 <br> 승민: 시계열 데이터분리, LSTM 모델 구현 <br> 경택: Sliding window 구현                          |\n",
    "| Week 6  | 논문 작성, 모델 점검 및 수정, 사후 점검 | 종현: GPU 이슈 해결 <br> 승민: LSTM 모델 구현 <br> 경택: Arima, xG boost 모델구현                      |\n",
    "| Week 7  | 논문 작성, 모델 점검 및 수정, 사후 점검      |  종현: GCN 6개 대여소, 하루에 대한 하이퍼파라미터 최적화 완료 <br> 승민: LSTM 모델 구현 <br> 경택: Arima, xG boost 모델구현                       |\n",
    "| Week 8  |                  |  종현: GPU 이슈 해결, 5월31일 기준 모든 대여소에 대한 하이퍼파라미터 최적화 <br> 승민: LSTM 모델 구현 <br> 경택: CNN2d 모델구현                         |\n",
    "| Week 9  |                  |  종현: GCN - pro 하이퍼파라미터 최적화 완료 <br> 승민: LSTM 하이퍼파라미터 최적화 진행 <br> 경택: XG-Boost, CNN-2d 하이퍼파라미터 최적화 진행                        |\n",
    "| Week 10 |                 |  종현: Methodology, Experimental setting, Result 작성 <br> 승민: LSTM RMSE 결과값 출력, Data collection and Preprocessing, Result 작성 <br> 경택: Abstract, Introduction, Related Work, keyword, title 작성  |\n",
    "| Week 11 |                 | 종현: 기고 논문 작성 <br> 승민: 기고 논문 작성 <br> 경택: 기고 논문 작성 <br>                         |\n",
    "| Week 12 |                 | 종현: 변경된 train/test set 적용 GCN-pro 하이퍼파라미터 최적화 <br> 승민: LSTM train,test 재분리 및 테스트 진행, Journal list 정리 <br> 경택: 비교 모델 Reference 수정, SCI, Scopus 논문 검색, private acces 인증 방법 서치|\n",
    "| Week 13 |                 |                           |\n",
    "| Week 14 |                 |                           |\n",
    "| Week 15 |                 |                           |\n",
    "| Week 16 |                 |                           |\n"
   ]
  },
  {
   "cell_type": "markdown",
   "metadata": {},
   "source": [
    "### Summary of previous meeting\n",
    "- Summary of previous meeting\n",
    "- Previous discussion:\n",
    "- Previous plan:\n",
    "  - Plos ONE 논문 작성 방식 찾기\n",
    "  - 해외 저널 사이트 (indexed : scopus, SSCI) 정리"
   ]
  },
  {
   "cell_type": "markdown",
   "metadata": {},
   "source": [
    "### Summary of working progress  \n",
    "\n",
    "### process 1. Train/Test set 변경\n",
    "- 변경 전: Test set을 5월 31일 하루로 설정하고, Train set 크기를 하이퍼파라미터로 설정함. -> Test set의 크기가 작다는 문제 식별.\n",
    "- 변경 후: Train set을 2022년 3월 ~ 8월, Test set을 9월 전체로 지정.\n",
    "\n",
    "### process 2: GCN-pro 하이퍼파라미터 설정\n",
    "- Train/Test set이 변경됨에 따라 하이퍼파라미터를 재구성해야함.\n",
    "  - GCN hidden layer: 0-2\n",
    "  - Dropout: 0.3, 0.5, ,0.7, 0.9,1\n",
    "  - Day: 3,4,5\n",
    "  - Week: 1, 2 ,3, 4\n",
    "  - Epoch: 300,400,500,600\n",
    "  - Lr: 0.005, 0.01, 0.001\n",
    "- 주중 예측 모델과 주말 예측 모델 모두 하이퍼파라미터를 최적화할 계획\n",
    "\n",
    "### process 3: LSTM\n",
    "- GCN-pro와 동일하게 train/test set 분리하여 모델 돌리는 중.\n",
    "\n",
    "### process 4: Journal list\n",
    "- scopus\n",
    "  - https://journalsearches.com/scopus-journals.php?id=artificial%20intelligence\n",
    "- SSCI\n",
    "  - Wiley : https://onlinelibrary.wiley.com/\n",
    "  - Traylor & Francis\n",
    "    - Online : https://www.tandfonline.com/\n",
    "    - as Informa business : https://taylorandfrancis.com/\n",
    "  - Springer : https://www.springer.com/kr\n",
    "  - IEEE\n",
    "    - IEEE Transactions on Neural Networks and Learning Systems\n",
    "    - IEEE Transactions on Knowledge and Data Engineering\n",
    "    - IEEE transactions on Patten analysis and machine intelligence\n",
    "    - ieee 개인 access 방법: 한동대 도서관 링크로 접속 : https://library.handong.edu/local/html/2705"
   ]
  },
  {
   "cell_type": "markdown",
   "metadata": {},
   "source": [
    "### Pending assignments or requests\n",
    "- pending assingments: \n",
    "- requests: \n"
   ]
  },
  {
   "cell_type": "markdown",
   "metadata": {},
   "source": []
  }
 ],
 "metadata": {
  "kernelspec": {
   "display_name": "Python 3 (ipykernel)",
   "language": "python",
   "name": "python3"
  },
  "language_info": {
   "codemirror_mode": {
    "name": "ipython",
    "version": 3
   },
   "file_extension": ".py",
   "mimetype": "text/x-python",
   "name": "python",
   "nbconvert_exporter": "python",
   "pygments_lexer": "ipython3",
   "version": "3.11.2"
  }
 },
 "nbformat": 4,
 "nbformat_minor": 2
}
