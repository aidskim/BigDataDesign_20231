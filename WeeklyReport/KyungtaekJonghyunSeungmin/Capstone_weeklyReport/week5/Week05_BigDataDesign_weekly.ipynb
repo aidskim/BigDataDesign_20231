{
 "cells": [
  {
   "cell_type": "markdown",
   "metadata": {},
   "source": [
    "# Weekly Report\n",
    "- Team members: 21700442 오경택, 21700741 최종현 22000624 장승민\n",
    "- Meeting Date: 230911\n",
    "- Project Name: 공용자전거 대여 데이터를 기반으로한 서울시 신설 최적의 자전거도로 입지 제안\n",
    "- Project Goal: GCN 모델(공간,시간 데이터 사용)을 활용한 대여소별 서울시 공용자전거 대여량 예측"
   ]
  },
  {
   "cell_type": "markdown",
   "metadata": {},
   "source": [
    "### Weekly plan (Fill this in)\n",
    "| Week    | Schedule        | Note                      |\n",
    "|---------|-----------------|---------------------------|\n",
    "| Week 1  | 간이 GCN 모델 코드 동작, GPU 개선, LSTM 코드 개선  | 종현: 간이 GCN 모델 코드 동작 완료, 사전 논문 전처리 코드 이해 및 적용 완료 <br> 승민: LSTM 코드 구현 완료 <br> 경택: conda를 docker 변환, ARIMA 모델 코드 구현 |\n",
    "| Week 2  | 간이 GCN 모델 구현 완료, LSTM 코드 구현 완료, GCN을 제외한 다른 비교 모델 코드 구현 시작 |종현: GCN 라플라시안 행렬 적용, 날씨, 거치소 별 공간적 변수 적용 <br> 승민: LSTM 코드 구현 <br> 경택: 아리마 코드 구현 |\n",
    "| Week 3  | GCN 모델 구현 완료, GCN을 제외한 다른 비교 모델 코드 구현 진행 | 종현: GCN sliding window 적용, GCN 주별 데이터 포함 <br> 승민: LSTM 코드 구현, 자전거도로 데이터 처리 <br> 경택: 아리마, xG boost 코드 구현      |\n",
    "| Week 4  | GCN을 제외한 다른 비교 모델 코드 구현 완료 | 종현: GCN sliding window 적용, GCN 하이퍼파라미터 최적화 <br> 승민: 날씨데이터 4분할, 자전거도로 데이터 처리 <br> 경택: 아리마, xG boost 하이퍼파라미터 최적화 | \n",
    "| Week 5  | 논문 작성, 모델 점검 및 수정, 사후 점검 |                           |\n",
    "| Week 6  | 논문 작성, 모델 점검 및 수정, 사후 점검 |                           |\n",
    "| Week 7  | 논문 작성, 모델 점검 및 수정, 사후 점검      |                           |\n",
    "| Week 8  |                  |                           |\n",
    "| Week 9  |                  |                           |\n",
    "| Week 10 |                 |                           |\n",
    "| Week 11 |                 |                           |\n",
    "| Week 12 |                 |                           |\n",
    "| Week 13 |                 |                           |\n",
    "| Week 14 |                 |                           |\n",
    "| Week 15 |                 |                           |\n",
    "| Week 16 |                 |                           |\n"
   ]
  },
  {
   "cell_type": "markdown",
   "metadata": {},
   "source": [
    "### Summary of previous meeting\n",
    "- Previous discussion:\n",
    "  - 수정된 GCN 형태: 일별 데이터 + 주별 데이터 + 공간 데이터 + 날씨 데이터\n",
    "  - LSTM, ARIMA, XG boost: Sliding Window 구현 및 Train, test set 적용 진행중\n",
    "  - 자전거 도로 공간 데이터: 각 꺾이는 지점(spot)을 기준으로 자전거 거치소별 거리를 계산하여 500m 이내인지 파악\n",
    "      - 꺾이는 지점(spot)이 포함되지 않는 경우, 직선 위에서의 위치를 구하여 거리 계산 예정\n",
    "  - 수정된 날씨 데이터: 하루를 4분할로 나누어 시간대별(0-6, 6-12, 12-18, 18-24)로 분류\n",
    "      - GCN에 넣어 진행하였을 때, 더 좋지 않은 성능을 보임\n",
    "\n",
    "- Comments from:\n",
    "  - 모델을 만들면서 논문을 쓰기 시작하길 권함.\n",
    "- Previous plan:\n",
    "  - 각자 모델 개인의 역량대로 보완해서 가져오기"
   ]
  },
  {
   "cell_type": "markdown",
   "metadata": {},
   "source": [
    "### Summary of working progress  \n",
    "\n",
    "#### process 1: 날씨 데이터 기존의 방식대로\n",
    "- 일별 날씨 데이터를 6시간을 간격으로 나눠서 모델에 적용시켜봄.<br>\n",
    "예상과 다르게 6시간 간격으로 나눈 날씨 데이터를 적용시켰을 때 성능이 낮아졌다. 6시간 간격으로 나눈 날씨 데이터가 성능이 낮게 나온 것이 달라진 모델에 대한 하이퍼파라미터가 맞지 않았을 가능성이 있어서 하이퍼파라미터를 최적화를 시도해보았지만 여전히 성능이 낮음.\n",
    "\n",
    "#### process 2: GCN 하이퍼파라미터 최적화\n",
    "- 그리드를 시도하려고 했지만, 본인이 구성한 모델은 모델 객체를 GCN, FCN을 나눠서 생성하고 코드 상에서 합치는 구조를 가지고 있기 때문에, Grid을 적용할 때, estimate할 객체를 하나로 규정하지 못함. 그래서 코드를 보완해서 할 예정.\n",
    "\n",
    "#### process 3: 자전거도로 데이터\n",
    "- 꺾이는 점(spot)을 기준으로 반경 500m의 수를 count하였다.<br>\n",
    "하지만 각 점들 사이의 도로는 반영되지 않았으므로 코드를 수정하여 spot이 포함되지 않을 때를 수정할 예정\n",
    "    <br>\n",
    "    <figure>\n",
    "      <img src=\"image2.png\">\n",
    "      <figcaption><center>Figure 1. 자전거도로 scatter plot</center></figcaption>\n",
    "    </figure> <br>\n",
    "   \n",
    "- 자전거 도로의 table은 아래와 같다.\n",
    "    <br>\n",
    "    <figure>\n",
    "      <img src=\"table1.png\">\n",
    "      <figcaption><center>Table 1. 자전거도로 table</center></figcaption>\n",
    "    </figure> <br>\n",
    "\n",
    "#### process 4: XGboost 모델링\n",
    "- sliding window 적용중\n",
    "- Grid Search 적용\n",
    "    -  max_depth, gamma, min_child_weight, subsample, n_estimators, learning_rate \n",
    "- 과적합 방지: early_stopping_rounds 설정"
   ]
  },
  {
   "cell_type": "markdown",
   "metadata": {},
   "source": [
    "### Pending assignments or requests\n",
    "- pending assingments: \n",
    "- requests: \n"
   ]
  },
  {
   "cell_type": "markdown",
   "metadata": {},
   "source": []
  }
 ],
 "metadata": {
  "kernelspec": {
   "display_name": "Python 3 (ipykernel)",
   "language": "python",
   "name": "python3"
  },
  "language_info": {
   "codemirror_mode": {
    "name": "ipython",
    "version": 3
   },
   "file_extension": ".py",
   "mimetype": "text/x-python",
   "name": "python",
   "nbconvert_exporter": "python",
   "pygments_lexer": "ipython3",
   "version": "3.9.13"
  }
 },
 "nbformat": 4,
 "nbformat_minor": 2
}
