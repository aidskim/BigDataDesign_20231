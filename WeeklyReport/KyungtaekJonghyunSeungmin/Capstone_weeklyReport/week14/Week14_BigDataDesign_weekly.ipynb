{
 "cells": [
  {
   "cell_type": "markdown",
   "metadata": {},
   "source": [
    "# Weekly Report\n",
    "- Team members: 21700442 오경택, 21700741 최종현 22000624 장승민\n",
    "- Meeting Date: 230911\n",
    "- Project Name: 공용자전거 대여 데이터를 기반으로한 서울시 신설 최적의 자전거도로 입지 제안\n",
    "- Project Goal: GCN 모델(공간,시간 데이터 사용)을 활용한 대여소별 서울시 공용자전거 대여량 예측"
   ]
  },
  {
   "cell_type": "markdown",
   "metadata": {},
   "source": [
    "### Weekly plan (Fill this in)\n",
    "| Week    | Schedule        | Note                      |\n",
    "|---------|-----------------|---------------------------|\n",
    "| Week 1  | 간이 GCN 모델 코드 동작, GPU 개선, LSTM 코드 개선  | 종현: 간이 GCN 모델 코드 동작 완료, 사전 논문 전처리 코드 이해 및 적용 완료 <br> 승민: LSTM 코드 구현 완료 <br> 경택: conda를 docker 변환, ARIMA 모델 코드 구현 |\n",
    "| Week 2  | 간이 GCN 모델 구현 완료, LSTM 코드 구현 완료, GCN을 제외한 다른 비교 모델 코드 구현 시작 |종현: GCN 라플라시안 행렬 적용, 날씨, 거치소 별 공간적 변수 적용 <br> 승민: LSTM 코드 구현 <br> 경택: 아리마 코드 구현 |\n",
    "| Week 3  | GCN 모델 구현 완료, GCN을 제외한 다른 비교 모델 코드 구현 진행 | 종현: GCN sliding window 적용, GCN 주별 데이터 포함 <br> 승민: LSTM 코드 구현, 자전거도로 데이터 처리 <br> 경택: 아리마, xG boost 코드 구현      |\n",
    "| Week 4  | GCN을 제외한 다른 비교 모델 코드 구현 완료 | 종현: GCN sliding window 적용, GCN 하이퍼파라미터 최적화 <br> 승민: 날씨데이터 4분할, 자전거도로 데이터 처리 <br> 경택: 아리마, xG boost 하이퍼파라미터 최적화 | \n",
    "| Week 5  | 논문 작성, 모델 점검 및 수정, 사후 점검 | 종현: 1차 GCN 하이퍼파라미터 최적화 <br> 승민: 시계열 데이터분리, LSTM 모델 구현 <br> 경택: Sliding window 구현                          |\n",
    "| Week 6  | 논문 작성, 모델 점검 및 수정, 사후 점검 | 종현: GPU 이슈 해결 <br> 승민: LSTM 모델 구현 <br> 경택: Arima, xG boost 모델구현                      |\n",
    "| Week 7  | 논문 작성, 모델 점검 및 수정, 사후 점검      |  종현: GCN 6개 대여소, 하루에 대한 하이퍼파라미터 최적화 완료 <br> 승민: LSTM 모델 구현 <br> 경택: Arima, xG boost 모델구현                       |\n",
    "| Week 8  |                  |  종현: GPU 이슈 해결, 5월31일 기준 모든 대여소에 대한 하이퍼파라미터 최적화 <br> 승민: LSTM 모델 구현 <br> 경택: CNN2d 모델구현                         |\n",
    "| Week 9  |                  |  종현: GCN - pro 하이퍼파라미터 최적화 완료 <br> 승민: LSTM 하이퍼파라미터 최적화 진행 <br> 경택: XG-Boost, CNN-2d 하이퍼파라미터 최적화 진행                        |\n",
    "| Week 10 |                 |  종현: Methodology, Experimental setting, Result 작성 <br> 승민: LSTM RMSE 결과값 출력, Data collection and Preprocessing, Result 작성 <br> 경택: Abstract, Introduction, Related Work, keyword, title 작성  |\n",
    "| Week 11 |                 | 종현: 기고 논문 작성 <br> 승민: 기고 논문 작성 <br> 경택: 기고 논문 작성 <br>                         |\n",
    "| Week 12 |                 | 종현: 변경된 train/test set 적용 GCN-pro 하이퍼파라미터 최적화 <br> 승민: LSTM train,test 재분리 및 테스트 진행, Journal list 정리 <br> 경택: 비교 모델 Reference 수정, SCI, Scopus 논문 검색, private acces 인증 방법 서치|\n",
    "| Week 13 |                 | 종현: GCN 하이퍼파라미터 최적화 코드 수정, 플러스원 논문 카테고리별 넣을 항목 기입 <br> 승민: LSTM 모델 수정 및 scopus 논문 서치 <br> 경택: CNN 코드 수정 및 저널 서치 및 정리<br> |\n",
    "| Week 14 |                 |                           |\n",
    "| Week 15 |                 |                           |\n",
    "| Week 16 |                 |                           |\n"
   ]
  },
  {
   "cell_type": "markdown",
   "metadata": {},
   "source": [
    "### Summary of previous meeting\n",
    "- Summary of previous meeting\n",
    "- Previous discussion:\n",
    "- Previous plan:\n",
    "  - Plos ONE 논문 작성 방식 찾기\n",
    "  - 해외 저널 사이트 (indexed : scopus, SSCI) 정리"
   ]
  },
  {
   "cell_type": "markdown",
   "metadata": {},
   "source": [
    "### Summary of working progress  \n",
    "\n",
    "### process 1. Plos ONE\n",
    "- 플러스원 개요\n",
    "1. Abstract\n",
    "   - 학회 abstract 비슷\n",
    "2. Author summary\n",
    "   - 학회 summary 요약\n",
    "3. Introduction\n",
    "   - introduction 조금 더 자세하게. \n",
    "   - 학회에 제출한 논문은 GCN 모델을 사용한 자전거 논문만을 다뤘다면, 해외논문 투고할 때는 자전거 수요량 예측의 필요성 자세하게\n",
    "   - 자전거 수요량 예측에 대한 다양한 접근\n",
    "   - 다양한 논문을 더 서칭하고 찾기(빅종설 발표, 캡스톤 중간 발표 때 썼던 논문 + 알파)\n",
    "4. Materials and methods\n",
    "   - 더 구체적으로 적을 것이 없어 보인다.\n",
    "5. Result\n",
    "   - 가장 좋은 공간적인 feature 분석(RFE, logistice regression)\n",
    "   - 9월 전체에 대한 예측 결과\n",
    "   - station 별로 예측 결과\n",
    "   - station 별로 예측이 잘 되는 station, 안되는 station 분석\n",
    "6. Discussion\n",
    "   - 결과 나와야 쓸 수 있음.\n",
    "7. Conclusion\n",
    "   - 결과 나와야 쓸 수 있음.\n",
    "\n",
    "Supporting information\n",
    "\n",
    "### process 2: process : CNN 코드 수정\n",
    "- 바뀐 train, test으로 변경: 3월-8월: train/9월: test\n",
    "- NA인 index drop에 따른 index 오류 수정\n",
    "- sliding window 일반화 가능하도록 코드 수정\n",
    "\n",
    "\n",
    "### process 3: 논문 서치\n",
    "- scopus  \n",
    "   (1) AI: https://journalsearches.com/scopus-journals.php?id=artificial%20intelligence  \n",
    "   (2) Computer Science: https://journalsearches.com/scopus-journals.php?id=Computer  \n",
    "   키워드를 GCN과 자전거로 잡아 선별\n",
    "- 정리 링크 (notion)\n",
    "  - https://www.notion.so/Journal-75d67224edb549e58c815a6b2c0675c3?pvs=4"
   ]
  },
  {
   "cell_type": "markdown",
   "metadata": {},
   "source": []
  },
  {
   "cell_type": "markdown",
   "metadata": {},
   "source": [
    "### Pending assignments or requests\n",
    "- pending assingments: \n",
    "- requests: \n"
   ]
  },
  {
   "cell_type": "markdown",
   "metadata": {},
   "source": []
  }
 ],
 "metadata": {
  "kernelspec": {
   "display_name": "Python 3 (ipykernel)",
   "language": "python",
   "name": "python3"
  },
  "language_info": {
   "codemirror_mode": {
    "name": "ipython",
    "version": 3
   },
   "file_extension": ".py",
   "mimetype": "text/x-python",
   "name": "python",
   "nbconvert_exporter": "python",
   "pygments_lexer": "ipython3",
   "version": "3.11.2"
  }
 },
 "nbformat": 4,
 "nbformat_minor": 2
}
