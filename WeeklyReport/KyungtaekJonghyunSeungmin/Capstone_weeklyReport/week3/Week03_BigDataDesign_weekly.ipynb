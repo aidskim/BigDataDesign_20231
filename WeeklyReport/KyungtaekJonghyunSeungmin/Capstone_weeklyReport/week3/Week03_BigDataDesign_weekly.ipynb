{
 "cells": [
  {
   "attachments": {},
   "cell_type": "markdown",
   "metadata": {},
   "source": [
    "# Weekly Report\n",
    "- Team members: 21700442 오경택, 21700741 최종현 22000624 장승민\n",
    "- Meeting Date: 230911\n",
    "- Project Name: 공용자전거 대여 데이터를 기반으로한 서울시 신설 최적의 자전거도로 입지 제안\n",
    "- Project Goal: GCN 모델(공간,시간 데이터 사용)을 활용한 대여소별 서울시 공용자전거 대여량 예측"
   ]
  },
  {
   "attachments": {},
   "cell_type": "markdown",
   "metadata": {},
   "source": [
    "### Weekly plan (Fill this in)\n",
    "| Week    | Schedule        | Note                      |\n",
    "|---------|-----------------|---------------------------|\n",
    "| Week 1  | 간이 GCN 모델 코드 동작, GPU 개선, LSTM 코드 개선  | 종현: 간이 GCN 모델 코드 동작 완료, 사전 논문 전처리 코드 이해 및 적용 완료 <br> 승민: LSTM 코드 구현 완료 <br> 경택: conda를 docker 변환, ARIMA 모델 코드 구현 |\n",
    "| Week 2  | 간이 GCN 모델 구현 완료, LSTM 코드 구현 완료, GCN을 제외한 다른 비교 모델 코드 구현 시작 | |\n",
    "| Week 3  | GCN 모델 구현 완료, GCN을 제외한 다른 비교 모델 코드 구현 진행 |        |\n",
    "| Week 4  | GCN을 제외한 다른 비교 모델 코드 구현 완료 |                        | \n",
    "| Week 5  | 논문 작성, 모델 점검 및 수정, 사후 점검 |                           |\n",
    "| Week 6  | 논문 작성, 모델 점검 및 수정, 사후 점검 |                           |\n",
    "| Week 7  | 논문 작성, 모델 점검 및 수정, 사후 점검      |                           |\n",
    "| Week 8  |                  |                           |\n",
    "| Week 9  |                  |                           |\n",
    "| Week 10 |                 |                           |\n",
    "| Week 11 |                 |                           |\n",
    "| Week 12 |                 |                           |\n",
    "| Week 13 |                 |                           |\n",
    "| Week 14 |                 |                           |\n",
    "| Week 15 |                 |                           |\n",
    "| Week 16 |                 |                           |\n"
   ]
  },
  {
   "attachments": {},
   "cell_type": "markdown",
   "metadata": {},
   "source": [
    "### Summary of previous meeting\n",
    "- Previous discussion:\n",
    "  - Normalization\n",
    "    - 라플라시안 normalization 기법 사용하여 정규화 진행.\n",
    "    - 정규화를 진행하지 않은 논문도 존재하기에 이는 진행 중 결정 예정.\n",
    "  - LSTM\n",
    "    - GPU 사용하여 전체 대여소별 모델링 진행.\n",
    "  - 논문\n",
    "    - 해외 논문 투고 예정.\n",
    "    - SCI, SSCI, SCIE, scopus 중 SCIE와 scopus로 투고 예정.\n",
    "- Comments from :\n",
    "  - GCN(라플라시안 코드 확인).\n",
    "  - ARIMA(library별 비교).\n",
    "- Previous plan:\n",
    "  - GCN: 라플라시안 정규화, 날씨 데이터 input, Fully Connected 구현.\n",
    "  - LSTM: GPU 사용하여 전체 대여소별 예측 진행.\n",
    "  - ARIMA: 검정별 정상성 test 및 차분, sliding window 구현."
   ]
  },
  {
   "cell_type": "markdown",
   "metadata": {},
   "source": [
    "### Summary of working progress  \n",
    "\n",
    "#### process 1: GCN\n",
    "  - 인접 행렬을 라플라시안 행렬로 변환. epoch 200 때 Loss가 10의 23승에서 3자리 수로 줄었다.\n",
    "  - 기존 GCN 모델 구조를 개편. GCN 모델 + FCN 모델\n",
    "    <br>\n",
    "    <figure>\n",
    "      <img src=\"image1.png\">\n",
    "      <figcaption><center>Figure 1. 공간 및 날씨 변수 추가 전</center></figcaption>\n",
    "    </figure> <br>\n",
    "  - GCN 모델에 날씨 변수 추가.\n",
    "    <br>\n",
    "    <figure>\n",
    "      <img src=\"image2.png\">\n",
    "      <figcaption><center>Figure 2. 날씨 변수 추가</center></figcaption>\n",
    "    </figure> <br>\n",
    "  - FCN 모델에 공간 및 날씨 변수 추가.\n",
    "    <br>\n",
    "    <figure>\n",
    "      <img src=\"image3.png\">\n",
    "      <figcaption><center>Figure 3. 공간 및 날씨 변수 추가</center></figcaption>\n",
    "    </figure> <br>\n",
    "#### process 2: LSTM\n",
    "  - sliding window 구현에 문제점 발견 및 재구현.\n",
    "  - 날씨 데이터(X)와 대여소별 대여량(y)를 사용하여 LSTM 모델 구현.\n",
    "  - 구현 중, X와 y 설정에 대한 문제점 발견.\n",
    "    - train_X, train_y, test_X, test_y로 구분하여 진행하는 도중 fit을 어떻게 진행해야 하는 것인지 이해되지 않음. -> 재구현 필요\n",
    "      - train_X: 5일 동안의 날씨 데이터\n",
    "      - train_y: 5일 동안의 대여량 데이터\n",
    "      - test_X: 5일 이후의 날씨 데이터\n",
    "      - test_y: 5일 이후의 대여량 데이터\n",
    "  - 데이터 분리 및 예측에 있어 재구현 필요.\n",
    "\n",
    "#### process 3: ARIMA\n",
    "  - sliding window 구현(train 5일, test 1일)\n",
    "  - 전처리(대여량과 날씨 데이터 통합)\n",
    "  - 정상성 검정\n",
    "    - KPSS, ADF, PP Test 진행 -> Test 결과 정상성 부재\n",
    "  - 1차 차분 진행 -> 정상성 검정 모두 통과 \n",
    "  - ACF, PACF plot으로 ARIMA의 각각 q,p order 값 확인: q=1 or 2, p=2\n",
    "  - 다변량을 예측할 수 있는 SARIMAX로 대여소의 대여량 예측 및 결과: RMSE 80.634"
   ]
  },
  {
   "attachments": {},
   "cell_type": "markdown",
   "metadata": {},
   "source": [
    "### Pending assignments or requests\n",
    "- pending assingments: \n",
    "- requests: \n"
   ]
  },
  {
   "cell_type": "markdown",
   "metadata": {},
   "source": []
  }
 ],
 "metadata": {
  "language_info": {
   "name": "python"
  },
  "orig_nbformat": 4
 },
 "nbformat": 4,
 "nbformat_minor": 2
}
