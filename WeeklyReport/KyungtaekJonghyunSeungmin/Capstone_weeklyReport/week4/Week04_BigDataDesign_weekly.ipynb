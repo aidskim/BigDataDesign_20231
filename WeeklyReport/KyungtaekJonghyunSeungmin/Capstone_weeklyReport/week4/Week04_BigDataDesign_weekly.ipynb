{
 "cells": [
  {
   "attachments": {},
   "cell_type": "markdown",
   "metadata": {},
   "source": [
    "# Weekly Report\n",
    "- Team members: 21700442 오경택, 21700741 최종현 22000624 장승민\n",
    "- Meeting Date: 230911\n",
    "- Project Name: 공용자전거 대여 데이터를 기반으로한 서울시 신설 최적의 자전거도로 입지 제안\n",
    "- Project Goal: GCN 모델(공간,시간 데이터 사용)을 활용한 대여소별 서울시 공용자전거 대여량 예측"
   ]
  },
  {
   "attachments": {},
   "cell_type": "markdown",
   "metadata": {},
   "source": [
    "### Weekly plan (Fill this in)\n",
    "| Week    | Schedule        | Note                      |\n",
    "|---------|-----------------|---------------------------|\n",
    "| Week 1  | 간이 GCN 모델 코드 동작, GPU 개선, LSTM 코드 개선  | 종현: 간이 GCN 모델 코드 동작 완료, 사전 논문 전처리 코드 이해 및 적용 완료 <br> 승민: LSTM 코드 구현 완료 <br> 경택: conda를 docker 변환, ARIMA 모델 코드 구현 |\n",
    "| Week 2  | 간이 GCN 모델 구현 완료, LSTM 코드 구현 완료, GCN을 제외한 다른 비교 모델 코드 구현 시작 |종현: GCN 라플라시안 행렬 적용, 날씨, 거치소 별 공간적 변수 적용 <br> 승민: LSTM 코드 구현 <br> 경택: 아리마 코드 구현 |\n",
    "| Week 3  | GCN 모델 구현 완료, GCN을 제외한 다른 비교 모델 코드 구현 진행 | 종현: GCN sliding window 적용, GCN 주별 데이터 포함 <br> 승민: LSTM 코드 구현, 자전거도로 데이터 처리 <br> 경택: 아리마, xG boost 코드 구현      |\n",
    "| Week 4  | GCN을 제외한 다른 비교 모델 코드 구현 완료 |                        | \n",
    "| Week 5  | 논문 작성, 모델 점검 및 수정, 사후 점검 |                           |\n",
    "| Week 6  | 논문 작성, 모델 점검 및 수정, 사후 점검 |                           |\n",
    "| Week 7  | 논문 작성, 모델 점검 및 수정, 사후 점검      |                           |\n",
    "| Week 8  |                  |                           |\n",
    "| Week 9  |                  |                           |\n",
    "| Week 10 |                 |                           |\n",
    "| Week 11 |                 |                           |\n",
    "| Week 12 |                 |                           |\n",
    "| Week 13 |                 |                           |\n",
    "| Week 14 |                 |                           |\n",
    "| Week 15 |                 |                           |\n",
    "| Week 16 |                 |                           |\n"
   ]
  },
  {
   "attachments": {},
   "cell_type": "markdown",
   "metadata": {},
   "source": [
    "### Summary of previous meeting\n",
    "- Previous discussion:\n",
    "  - GCN 날씨, 거치소별 공간 변수 추가해서 성능 향상시킴.\n",
    "  - 라플라시안 행렬 적용한 결과 성능 눈에 띄게 좋아짐.\n",
    "  - LSTM\n",
    "    - trian, test set을 나눌 때 어떻게 해야하는지 의논.\n",
    "\n",
    "- Comments from :\n",
    "  - 어떻게 하면 모델이 더 돋보일 수 있는지 파악\n",
    "  - 모델을 만들면서 논문을 쓰기 시작하길 권함.\n",
    "- Previous plan:\n",
    "  - 각자 모델 개인의 역량대로 보완해서 가져오기"
   ]
  },
  {
   "attachments": {},
   "cell_type": "markdown",
   "metadata": {},
   "source": [
    "### Summary of working progress  \n",
    "\n",
    "#### process 1: Sliding Window 구현 및 Train, test set 적용\n",
    "  - Sliding window 구현하는 방식 제안<br>\n",
    "예를 들어 설명. 5월 31일의 일별 대여량을 예측한다고 했을 때, 5월 31일을 test set으로 두고, 이전 15일을 Sliding window가 지나가는 train set으로 구성함. Sliding window의 크기는 3일이라고 가정. 그렇다면 3일에 대한 매트릭스를 통해 4번째 일의 대여량을 예측. 모델 제작 시, 5월 16일부터 시작해서 5월 30일까지를 epoch 여러번으로 훈련을 시켜 모델의 가중치를 연산하고, 최종적으로 훈련된 모델을 5월 31일에 적용시킴으로 최종 mse값 구함.\n",
    "\n",
    "#### process 2: GCN\n",
    "-  이전 GCN 구성: 일별 데이터 + 공간 데이터 + 날씨\n",
    "-  수정 GCN 구성: 일별 데이터 + 주별 데이터 + 공간 데이터 + 날씨\n",
    "-  process 1 적용\n",
    "\n",
    "#### process 3: LSTM, ARIMA, XG boost\n",
    "- process 1 적용 및 구현 중\n",
    "\n",
    "#### process 4: 공간 행렬의 자전거 도로 추가\n",
    "- 자전거 도로 종류에 따라 다른 색으로 서울시 지도에 자전거 도로를 시각화.\n",
    "- 거치소 인근 500m 자전거 도로를 포함시키는 기준 제안.\n",
    "  <br>\n",
    "    <figure>\n",
    "      <center><img src=\"image1.png\", width=1000></center>\n",
    "      <figcaption><center>Figure 1. 자전거 도로별 시각화</center></figcaption>\n",
    "    </figure> <br>\n",
    "\n",
    "- row 1번의 자전거 geometry 시각화\n",
    "  <br>\n",
    "    <figure>\n",
    "      <center><img src=\"image2.png\", width=500></center>\n",
    "      <figcaption><center>Figure 2. row 1번 geometry 도로 시각화</center></figcaption>\n",
    "    </figure> <br>"
   ]
  },
  {
   "attachments": {},
   "cell_type": "markdown",
   "metadata": {},
   "source": [
    "### Pending assignments or requests\n",
    "- pending assingments: \n",
    "- requests: \n"
   ]
  },
  {
   "cell_type": "markdown",
   "metadata": {},
   "source": []
  }
 ],
 "metadata": {
  "language_info": {
   "name": "python"
  },
  "orig_nbformat": 4
 },
 "nbformat": 4,
 "nbformat_minor": 2
}
