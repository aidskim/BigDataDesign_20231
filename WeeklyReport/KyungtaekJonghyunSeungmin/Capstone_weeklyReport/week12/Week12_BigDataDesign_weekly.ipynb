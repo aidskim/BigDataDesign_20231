{
 "cells": [
  {
   "cell_type": "markdown",
   "metadata": {},
   "source": [
    "# Weekly Report\n",
    "- Team members: 21700442 오경택, 21700741 최종현 22000624 장승민\n",
    "- Meeting Date: 230911\n",
    "- Project Name: 공용자전거 대여 데이터를 기반으로한 서울시 신설 최적의 자전거도로 입지 제안\n",
    "- Project Goal: GCN 모델(공간,시간 데이터 사용)을 활용한 대여소별 서울시 공용자전거 대여량 예측"
   ]
  },
  {
   "cell_type": "markdown",
   "metadata": {},
   "source": [
    "### Weekly plan (Fill this in)\n",
    "| Week    | Schedule        | Note                      |\n",
    "|---------|-----------------|---------------------------|\n",
    "| Week 1  | 간이 GCN 모델 코드 동작, GPU 개선, LSTM 코드 개선  | 종현: 간이 GCN 모델 코드 동작 완료, 사전 논문 전처리 코드 이해 및 적용 완료 <br> 승민: LSTM 코드 구현 완료 <br> 경택: conda를 docker 변환, ARIMA 모델 코드 구현 |\n",
    "| Week 2  | 간이 GCN 모델 구현 완료, LSTM 코드 구현 완료, GCN을 제외한 다른 비교 모델 코드 구현 시작 |종현: GCN 라플라시안 행렬 적용, 날씨, 거치소 별 공간적 변수 적용 <br> 승민: LSTM 코드 구현 <br> 경택: 아리마 코드 구현 |\n",
    "| Week 3  | GCN 모델 구현 완료, GCN을 제외한 다른 비교 모델 코드 구현 진행 | 종현: GCN sliding window 적용, GCN 주별 데이터 포함 <br> 승민: LSTM 코드 구현, 자전거도로 데이터 처리 <br> 경택: 아리마, xG boost 코드 구현      |\n",
    "| Week 4  | GCN을 제외한 다른 비교 모델 코드 구현 완료 | 종현: GCN sliding window 적용, GCN 하이퍼파라미터 최적화 <br> 승민: 날씨데이터 4분할, 자전거도로 데이터 처리 <br> 경택: 아리마, xG boost 하이퍼파라미터 최적화 | \n",
    "| Week 5  | 논문 작성, 모델 점검 및 수정, 사후 점검 | 종현: 1차 GCN 하이퍼파라미터 최적화 <br> 승민: 시계열 데이터분리, LSTM 모델 구현 <br> 경택: Sliding window 구현                          |\n",
    "| Week 6  | 논문 작성, 모델 점검 및 수정, 사후 점검 | 종현: GPU 이슈 해결 <br> 승민: LSTM 모델 구현 <br> 경택: Arima, xG boost 모델구현                      |\n",
    "| Week 7  | 논문 작성, 모델 점검 및 수정, 사후 점검      |  종현: GCN 6개 대여소, 하루에 대한 하이퍼파라미터 최적화 완료 <br> 승민: LSTM 모델 구현 <br> 경택: Arima, xG boost 모델구현                       |\n",
    "| Week 8  |                  |  종현: GPU 이슈 해결, 5월31일 기준 모든 대여소에 대한 하이퍼파라미터 최적화 <br> 승민: LSTM 모델 구현 <br> 경택: CNN2d 모델구현                         |\n",
    "| Week 9  |                  |  종현: GCN - pro 하이퍼파라미터 최적화 완료 <br> 승민: LSTM 하이퍼파라미터 최적화 진행 <br> 경택: XG-Boost, CNN-2d 하이퍼파라미터 최적화 진행                        |\n",
    "| Week 10 |                 |  종현: Methodology, Experimental setting, Result 작성 <br> 승민: LSTM RMSE 결과값 출력, Data collection and Preprocessing, Result 작성 <br> 경택: Abstract, Introduction, Related Work, keyword, title 작성  |\n",
    "| Week 11 |                 | 종현: 기고 논문 작성 <br> 승민: 기고 논문 작성 <br> 경택: 기고 논문 작성 <br>                         |\n",
    "| Week 12 |                 |                           |\n",
    "| Week 13 |                 |                           |\n",
    "| Week 14 |                 |                           |\n",
    "| Week 15 |                 |                           |\n",
    "| Week 16 |                 |                           |\n"
   ]
  },
  {
   "cell_type": "markdown",
   "metadata": {},
   "source": [
    "### Summary of previous meeting\n",
    "- Summary of previous meeting\n",
    "- Previous discussion:\n",
    "  - 논문 작성 후 교수님 피드백으로 논문 수정\n",
    "- Previous plan:\n",
    "  - 한국 인공지능 학회 학술대회 논문 기고 완료 (11.09)"
   ]
  },
  {
   "cell_type": "markdown",
   "metadata": {},
   "source": [
    "### Summary of working progress  \n",
    "\n",
    "### process 1. GCN-pro 모델 구성방식 수정\n",
    "- 일별, 주별, 공간 행렬을 합친 특성행렬을 GCN 모델의 input으로 사용 -> 일별+GCN, 주별+GCN, 공간+GCN 모델을 각각 GCN 모델을 구성함. \n",
    "- RMSE: 15.78 -> 13.43\n",
    "\n",
    "### process 2: 논문 작성\n",
    "1. Methodology\n",
    "- 변경된 GCN 모델에 맞게 수식과 내용 수정\n",
    "- 행렬식, 표 작성 완료\n",
    "2. Result\n",
    "- GCN-pro, GCN-UP, LSTM, xGboost, Arima로 각각 모델 성능 비교\n",
    "3. Conclusion\n",
    "- 논문이 나오게 된 배경, GCN-pro가 갖는 장점 및 한계사항을 정리함\n",
    "4. Related Work 추가\n",
    "- GCN 관련 모델 정리\n",
    "5. Introduction, Abstract 수정\n",
    "- reference 추가\n",
    "6. conclusion 새로 작성 및 수정\n",
    "- 노벨티 요약\n",
    "- 새로운 제안법의 유효성\n",
    "- 한계\n",
    "- 개선사항\n",
    "7. 형식 수정\n",
    "- 제목, author, keyword등"
   ]
  },
  {
   "cell_type": "markdown",
   "metadata": {},
   "source": [
    "### Pending assignments or requests\n",
    "- pending assingments: \n",
    "- requests: \n"
   ]
  },
  {
   "cell_type": "markdown",
   "metadata": {},
   "source": []
  }
 ],
 "metadata": {
  "kernelspec": {
   "display_name": "Python 3 (ipykernel)",
   "language": "python",
   "name": "python3"
  },
  "language_info": {
   "codemirror_mode": {
    "name": "ipython",
    "version": 3
   },
   "file_extension": ".py",
   "mimetype": "text/x-python",
   "name": "python",
   "nbconvert_exporter": "python",
   "pygments_lexer": "ipython3",
   "version": "3.11.2"
  }
 },
 "nbformat": 4,
 "nbformat_minor": 2
}
