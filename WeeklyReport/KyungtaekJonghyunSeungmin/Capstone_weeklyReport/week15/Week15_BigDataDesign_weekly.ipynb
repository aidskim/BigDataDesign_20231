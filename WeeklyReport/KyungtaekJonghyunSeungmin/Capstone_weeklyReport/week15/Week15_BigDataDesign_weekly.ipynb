{
 "cells": [
  {
   "cell_type": "markdown",
   "metadata": {},
   "source": [
    "# Weekly Report\n",
    "- Team members: 21700442 오경택, 21700741 최종현 22000624 장승민\n",
    "- Meeting Date: 230911\n",
    "- Project Name: 공용자전거 대여 데이터를 기반으로한 서울시 신설 최적의 자전거도로 입지 제안\n",
    "- Project Goal: GCN 모델(공간,시간 데이터 사용)을 활용한 대여소별 서울시 공용자전거 대여량 예측"
   ]
  },
  {
   "cell_type": "markdown",
   "metadata": {},
   "source": [
    "### Weekly plan (Fill this in)\n",
    "| Week    | Schedule        | Note                      |\n",
    "|---------|-----------------|---------------------------|\n",
    "| Week 1  | 간이 GCN 모델 코드 동작, GPU 개선, LSTM 코드 개선  | 종현: 간이 GCN 모델 코드 동작 완료, 사전 논문 전처리 코드 이해 및 적용 완료 <br> 승민: LSTM 코드 구현 완료 <br> 경택: conda를 docker 변환, ARIMA 모델 코드 구현 |\n",
    "| Week 2  | 간이 GCN 모델 구현 완료, LSTM 코드 구현 완료, GCN을 제외한 다른 비교 모델 코드 구현 시작 |종현: GCN 라플라시안 행렬 적용, 날씨, 거치소 별 공간적 변수 적용 <br> 승민: LSTM 코드 구현 <br> 경택: 아리마 코드 구현 |\n",
    "| Week 3  | GCN 모델 구현 완료, GCN을 제외한 다른 비교 모델 코드 구현 진행 | 종현: GCN sliding window 적용, GCN 주별 데이터 포함 <br> 승민: LSTM 코드 구현, 자전거도로 데이터 처리 <br> 경택: 아리마, xG boost 코드 구현      |\n",
    "| Week 4  | GCN을 제외한 다른 비교 모델 코드 구현 완료 | 종현: GCN sliding window 적용, GCN 하이퍼파라미터 최적화 <br> 승민: 날씨데이터 4분할, 자전거도로 데이터 처리 <br> 경택: 아리마, xG boost 하이퍼파라미터 최적화 | \n",
    "| Week 5  | 논문 작성, 모델 점검 및 수정, 사후 점검 | 종현: 1차 GCN 하이퍼파라미터 최적화 <br> 승민: 시계열 데이터분리, LSTM 모델 구현 <br> 경택: Sliding window 구현                          |\n",
    "| Week 6  | 논문 작성, 모델 점검 및 수정, 사후 점검 | 종현: GPU 이슈 해결 <br> 승민: LSTM 모델 구현 <br> 경택: Arima, xG boost 모델구현                      |\n",
    "| Week 7  | 논문 작성, 모델 점검 및 수정, 사후 점검      |  종현: GCN 6개 대여소, 하루에 대한 하이퍼파라미터 최적화 완료 <br> 승민: LSTM 모델 구현 <br> 경택: Arima, xG boost 모델구현                       |\n",
    "| Week 8  |                  |  종현: GPU 이슈 해결, 5월31일 기준 모든 대여소에 대한 하이퍼파라미터 최적화 <br> 승민: LSTM 모델 구현 <br> 경택: CNN2d 모델구현                         |\n",
    "| Week 9  |                  |  종현: GCN - pro 하이퍼파라미터 최적화 완료 <br> 승민: LSTM 하이퍼파라미터 최적화 진행 <br> 경택: XG-Boost, CNN-2d 하이퍼파라미터 최적화 진행                        |\n",
    "| Week 10 |                 |  종현: Methodology, Experimental setting, Result 작성 <br> 승민: LSTM RMSE 결과값 출력, Data collection and Preprocessing, Result 작성 <br> 경택: Abstract, Introduction, Related Work, keyword, title 작성  |\n",
    "| Week 11 |                 | 종현: 기고 논문 작성 <br> 승민: 기고 논문 작성 <br> 경택: 기고 논문 작성 <br>                         |\n",
    "| Week 12 |                 | 종현: 변경된 train/test set 적용 GCN-pro 하이퍼파라미터 최적화 <br> 승민: LSTM train,test 재분리 및 테스트 진행, Journal list 정리 <br> 경택: 비교 모델 Reference 수정, SCI, Scopus 논문 검색, private acces 인증 방법 서치|\n",
    "| Week 13 |                 | 종현: GCN 하이퍼파라미터 최적화 코드 수정, 플러스원 논문 카테고리별 넣을 항목 기입 <br> 승민: LSTM 모델 수정 및 scopus 논문 서치 <br> 경택: CNN 코드 수정 및 저널 서치 및 정리<br> |\n",
    "| Week 14 |                 | 종현: GCN-pro 하이퍼파라미터 수정 <br> 승민: Introduction 페이지 작성, LSTM 모델 진행 <br> 경택: GCN 퍼포먼스 비교 방법론 조사 및 비교모델 수정|\n",
    "| Week 15 |                 |                           |\n",
    "| Week 16 |                 |                           |\n"
   ]
  },
  {
   "cell_type": "markdown",
   "metadata": {},
   "source": [
    "### Summary of previous meeting\n",
    "- Summary of previous meeting\n",
    "- Previous discussion:\n",
    "- Previous plan:\n",
    "  - Science Robotics 저널 사용"
   ]
  },
  {
   "cell_type": "markdown",
   "metadata": {},
   "source": [
    "### Summary of working progress  \n",
    "\n",
    "### process 1. GCN-pro 하이퍼파라미터 수정\n",
    "- GCN-pro 모델을 작동하는데 너무 많은 메모리를 사용하는 이슈 발생\n",
    "- 문제 해결\n",
    "  1. backward()을 사용할 시, retain_graph=False 추가\n",
    "  2. iteration 반복할 때마다 cuda에 할당되는 변수 삭제\n",
    "- del, torch.cuda.empty_cache() function 사용\n",
    "\n",
    "### process 2. Introduction 작성\n",
    "- problem, paper's importance\n",
    "- scientific question or engineering challenge\n",
    "- sufficient background information to make the article understandable\n",
    "- implications of the experimental findings are clear\n",
    "\n",
    "### process 3. 저널 사이트 수정\n",
    "- Science Robotics -> PlosOne으로 저널사이트 수정\n",
    "- Science Robotics : 기계적인 로봇을 주로 다루는 저널사이트이므로 부적절하다고 생각함.\n",
    "\n",
    "### process 4: GCN 퍼포먼스 비교 방법\n",
    "- 새로운 사전 논문\n",
    "    - Heat-map 시각화\n",
    "        - 성능이 제일 떨어지는 지역 Top2의 특성\n",
    "            1) 자전거 대여량의 범위의 변동폭이 큰 지역\n",
    "            2)  n개의 자전거 대여소가 서로 매우 가깝게 위치한 지역\n",
    "            \n",
    "    - MAE별 자전거대여소 히스토그램\n",
    "    -  추가방안: 공간피쳐 특성에 따라 분할"
   ]
  },
  {
   "cell_type": "markdown",
   "metadata": {},
   "source": []
  },
  {
   "cell_type": "markdown",
   "metadata": {},
   "source": [
    "### Pending assignments or requests\n",
    "- pending assingments: \n",
    "- requests: \n"
   ]
  },
  {
   "cell_type": "markdown",
   "metadata": {},
   "source": []
  }
 ],
 "metadata": {
  "kernelspec": {
   "display_name": "Python 3 (ipykernel)",
   "language": "python",
   "name": "python3"
  },
  "language_info": {
   "codemirror_mode": {
    "name": "ipython",
    "version": 3
   },
   "file_extension": ".py",
   "mimetype": "text/x-python",
   "name": "python",
   "nbconvert_exporter": "python",
   "pygments_lexer": "ipython3",
   "version": "3.11.2"
  }
 },
 "nbformat": 4,
 "nbformat_minor": 2
}
