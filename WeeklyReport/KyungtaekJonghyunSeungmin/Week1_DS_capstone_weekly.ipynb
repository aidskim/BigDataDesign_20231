{
 "cells": [
  {
   "attachments": {},
   "cell_type": "markdown",
   "metadata": {},
   "source": [
    "# Weekly Report\n",
    "- Team members: 21700442 오경택, 21700741 최종현 22000624 장승민\n",
    "- Meeting Date: 230428 \n",
    "- Project Name: 공용자전거 대여 데이터를 기반으로 서울시 공공자전거 수요량 예측 및 자전거 재분배 제안\n",
    "- Project Goal: 공공자전거 수요량 예측을 GCN 모델 기반으로 거치소별 공간적인 특성을 추가해서 한다. 예측량에 기반하여 거치소별 분배할 자전거의 개수를 제시한다."
   ]
  },
  {
   "attachments": {},
   "cell_type": "markdown",
   "metadata": {},
   "source": [
    "### Weekly plan (Fill this in)\n",
    "\n",
    "| Week    | Schedule        | Note                      |\n",
    "|---------|-----------------|---------------------------|\n",
    "| Week 1  | 간이 GCN 모델 코드 동작, GPU 개선, LSTM 코드 개선  | 종현: 간이 GCN 모델 코드 동작 완료, 사전 논문 전처리 코드 이해 및 적용 완료 <br> 승민: LSTM 코드 구현 완료 <br> 경택: conda를 docker 변환, ARIMA 모델 코드 구현 |\n",
    "| Week 2  | 간이 GCN 모델 구현 완료, LSTM 코드 구현 완료, GCN을 제외한 다른 비교 모델 코드 구현 시작 | |\n",
    "| Week 3  | GCN 모델 구현 완료, GCN을 제외한 다른 비교 모델 코드 구현 진행 |        |\n",
    "| Week 4  | GCN을 제외한 다른 비교 모델 코드 구현 완료 |                        | \n",
    "| Week 5  | 논문 작성, 모델 점검 및 수정, 사후 점검 |                           |\n",
    "| Week 6  | 논문 작성, 모델 점검 및 수정, 사후 점검 |                           |\n",
    "| Week 7  | 논문 작성, 모델 점검 및 수정, 사후 점검      |                           |\n",
    "| Week 8  |                  |                           |\n",
    "| Week 9  |                  |                           |\n",
    "| Week 10 |                 |                           |\n",
    "| Week 11 |                 |                           |\n",
    "| Week 12 |                 |                           |\n",
    "| Week 13 |                 |                           |\n",
    "| Week 14 |                 |                           |\n",
    "| Week 15 |                 |                           |\n",
    "| Week 16 |                 |                           |"
   ]
  },
  {
   "attachments": {},
   "cell_type": "markdown",
   "metadata": {},
   "source": [
    "---------------\n",
    "\n",
    "### Summary of previous meeting\n",
    "Previous discussion\n",
    "\n",
    "\n",
    "Comments from \n",
    "- GCN 인접행렬 만들 때, 스케일을 전체로 잡고 일부를 가져오는 방식은 잘못됨. 수정바람.\n",
    "- GCN 비교 모델은 사전 논문에서 사용한 비교 모델과 사전 논문의 GCN 모델로 비교해보길 권함.\n",
    "- 공용서버 GPU 수요일까지 답변 없으면 교수님께 연락 바람.   \n",
    "\n",
    "Previous plan:\n",
    "- 인접행렬, 특성행렬 전처리 코드 이해 및 적용\n",
    "- 간이 gcn 코드 완료(시간 데이터만 적용)\n",
    "- LSTM 코드 수정\n",
    "\n",
    "-------------"
   ]
  },
  {
   "attachments": {},
   "cell_type": "markdown",
   "metadata": {},
   "source": [
    "---------------\n",
    "\n",
    "### Summary of working progress\n",
    "\n",
    "#### 1. GCN 사전 코드 중 행렬 전처리 과정에 대한 이해 및 적용 방안\n",
    "##### 1-1. 특성행렬을 전처리하는 함수: process_features -> 특성행렬을 정규화하는 역할\n",
    "##### - process_features 코드 및 해석\n",
    "row_sum_diag: 특성행렬의 행별 합 계산, 특성행렬의 각 논문의 특성의 총합.<br>\n",
    "row_sum_diag_inv: row_sum_diag의 역수<br>\n",
    "row_sum_diag_inv에서 무한 값이 있으면 0으로 치환<br>\n",
    "row_sum_inv: row_sum_diag_inv을 대각행렬로 변환 <br>\n",
    "np.dot(row_sum_inv, features): 정규화 시행.<br>\n",
    "\n",
    "##### - process_features 적용하면 안됨.\n",
    "각 논문의 특성 크기에 따라 정규화하여 각 논문에 대해 어떤 특성이 더 중요한지 보다 쉽게 연산하기 위함.<br>\n",
    "\n",
    "그래서 우리는 이것을 쓰면 안됨.<br>\n",
    "\n",
    "##### 1-2. 인접행렬을 전처리하는 함수: preprocess_adj -> 인접행렬을 전처리하는 함수\n",
    "깃허브에서 사용한 인접행렬은 실수형 아닌 바이너리한 데이터. 각 논문 별로 서로 연관이 있는 논문에 1처리, 아닌 것에 0.<br>\n",
    "<br><br>\n",
    "I: 대각 요소가 1, 나머지는 0인 항등행렬<br>\n",
    "A_hat: 초기 인접행렬 + 항등행렬: 자신의 대한 정보 포함.<br>\n",
    "D_hat_diag: A_hat의 행별 합 계산, 각 논문별 연결된 엣지 수를 합함.<br>\n",
    "D_hat_diag_inv_sqrt: D_hat_diag 역수의 제곱근<br>\n",
    "D_hat_inv_sqrt: D_hat_diag_inv_sqrt 대각행렬로 반환<br>\n",
    "np.dot(np.dot(D_hat_inv_sqrt, A_hat), D_hat_inv_sqrt): 정규화된 인접행렬<br><br>\n",
    "\n",
    "각 노드 별로, 노드의 엣지의 크기 기준으로 정규화함.\n",
    "<br>\n",
    "우리는 이용하면 안됨. 각 거치소 별로 정규화하면 안된다. 우리는 전체 대여,반납에 대한 정보를 담아야하는데, 거치소 별로 정규화를 하면 전체 대여, 반납에 대한 데이터가 왜곡된다.<br>\n",
    "\n",
    "\n",
    "#### 3. GCN 코드 수정\n",
    "GCN 코드 구성: \n",
    "- 일별 대여량 데이터만 활용 \n",
    "- 6개의 거치소만 예측 \n",
    "- 공간 행렬, 날씨 행렬 미포함\n",
    "- sliding window 적용 미적용 둘다 실행\n",
    "<br>\n",
    "결과: loss값이 대부분 크지 않음. sliding window을 안 쓴 것이 미세하게 loss가 더 적었다. \n",
    "\n",
    "<img src=\"capstone_1.jpeg\"/>\n",
    "<img src=\"capstone_2.jpeg\"/>\n",
    "\n",
    "\n",
    "#### 4. "
   ]
  },
  {
   "attachments": {},
   "cell_type": "markdown",
   "metadata": {},
   "source": [
    "### Pending assignments or requests\n",
    "- pending assingments: \n",
    "- 일정이 중간고사 전에 끝나게 됨. 교수님께서 받으신 프로젝트에 참여할 수 있는지. "
   ]
  }
 ],
 "metadata": {
  "language_info": {
   "name": "python"
  },
  "orig_nbformat": 4
 },
 "nbformat": 4,
 "nbformat_minor": 2
}
