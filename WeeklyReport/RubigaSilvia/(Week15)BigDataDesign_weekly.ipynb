{
 "cells": [
  {
   "cell_type": "markdown",
   "metadata": {},
   "source": [
    "# Weekly Report\n",
    "- Team members: 21900086 Kim Rubiga, 22220036 Silvia Garces\n",
    "- Meeting Date: 30052023 \n",
    "- Project Name: CAFA5 Protein Function Prediction\n",
    "- Project Goal: Developing a model to predict the function of proteins by annotating them with GO terms. "
   ]
  },
  {
   "cell_type": "markdown",
   "metadata": {},
   "source": [
    "### Weekly plan (Fill this in)\n",
    "\n",
    "| Week    | Schedule              | Note                                            |\n",
    "|---------|-----------------------|-------------------------------------------------|\n",
    "| Week 9  | Data Analysis         | Focus on understanding data                     |\n",
    "| Week 10 | Finding Novelty       | Basic EDA to know which approach we would use    |\n",
    "| Week 11 | Complete EDA          | To complete EDA and data exploration to know what model we will proceed with|\n",
    "| Week 12 | Search reference scientific articles | To find related articles for validity of our data|\n",
    "| Week 13 | Start working on the proposal | Getting to understand how overleaf works     |\n",
    "| Week 14 | Complete on proposal draft   |  Getting comments from professor on the draft |\n",
    "| Week 15 | Fixing the proposal draft and code | Goal is to finish at least 95% of the progress|\n",
    "| Week 16 | Final comments on the research proposal and finishing touches | Editing based on the final comments|\n",
    "\n",
    "\n"
   ]
  },
  {
   "cell_type": "markdown",
   "metadata": {},
   "source": [
    "### Summary of previous meeting\n",
    "- Previous discussion: Novelty of project and what we are trying to do with our project. \n",
    "- Comments from Professor: To begin with EDA because of the deadline for the project. Competition: what we are trying to do and EDA\n",
    "- Previous plan: How are other teams doing, telling him our novelty, how are we going to check the performance? (References) "
   ]
  },
  {
   "cell_type": "markdown",
   "metadata": {},
   "source": [
    "### Summary of working progress\n",
    "- Level of progress in weekly plan: 100 % completed or 50 % completed.\n",
    "- Progress 1(Week 9): 5%\n",
    "- Progress 2(Week 10): 15% \n",
    "- Progress 3(Week 11): 80%\n",
    "- Progress 4(Week 12): 100%\n",
    "- Progress 5(Week 13): 100%\n",
    "- Progress 6(Week 14): 80%\n",
    "- Progress 7(Week 15): 100%"
   ]
  },
  {
   "cell_type": "markdown",
   "metadata": {},
   "source": [
    "### Pending assignments or requests\n",
    "Week 10\n",
    "- pending assingments: Completion of EDA\n",
    "- requests: Dimension reduction tips\n",
    "\n",
    "Week 11\n",
    "- pending assignments: - \n",
    "- requests: Server and regarding data significance aspect\n",
    "\n",
    "Week 12 \n",
    "- Server problem resolve\n",
    "- Ask on the optimum results in the case of using Random Forest\n",
    "\n",
    "Week 13\n",
    "- tried doing RNN for the final training dataset. As it is really huge we did random sampling first to try a first approach, however the data is not in numerical values so we tried to do encoders to change it. It did not work properly so we need further advice on how to do that.\n",
    "\n",
    "Week 14\n",
    "- Embedding question\n",
    "- Whether we have to include all the models that we have run in the overleaf project or should we include the one with a validated score\n",
    "\n",
    "Week 15\n",
    "- Request to run tmux on server"
   ]
  },
  {
   "cell_type": "markdown",
   "metadata": {},
   "source": [
    "### Project Comments"
   ]
  },
  {
   "cell_type": "markdown",
   "metadata": {},
   "source": [
    "Week 10\n",
    "- What other projects lack --> Good visualization \n",
    "- Comments by professor: remeasure and see how many taxonomy occurs the most, removing duplicates\n",
    "\n",
    "Week 13\n",
    "- Coding with ANN Model\n",
    "- Starting off with overleaf and registering\n",
    "\n",
    "Week 14\n",
    "- Tried ANN model, RNN model (with tensorflow) but due to data insufficient shapes we decided to go with DNN model as it is simpler and it has a better performance "
   ]
  },
  {
   "cell_type": "markdown",
   "metadata": {},
   "source": [
    "# Week 15\n"
   ]
  },
  {
   "cell_type": "markdown",
   "metadata": {},
   "source": [
    "## DNN Model with pytorch\n",
    "\n",
    "\n",
    "\n",
    "![Alt Text](pic1.png)\n",
    "![Alt Text](pic2.png)\n",
    "![Alt Text](pic3.png)\n",
    "![Alt Text](pic4.png)\n",
    "![Alt Text](pic5.png)\n",
    "![Alt Text](pic6.png)\n",
    "![Alt Text](pic7.png)"
   ]
  },
  {
   "cell_type": "markdown",
   "metadata": {},
   "source": [
    "* We tried increasing the number of GO terms for the training model, however, if we increased more than 1500 the program stopped working because of lack of the RAM memory. If, we train it with 1500 it works properly.\n",
    "\n",
    "* We tried 5000 GO terms using the server and each epoch took 15 minutes to run.\n",
    "\n",
    "* For now, we have tried Tensorflow DNN and Pytorch to check the difference between both. Pytorch runs faster in the Kaggle notebook."
   ]
  },
  {
   "cell_type": "code",
   "execution_count": null,
   "metadata": {},
   "outputs": [],
   "source": []
  }
 ],
 "metadata": {
  "kernelspec": {
   "display_name": "Python 3 (ipykernel)",
   "language": "python",
   "name": "python3"
  },
  "language_info": {
   "codemirror_mode": {
    "name": "ipython",
    "version": 3
   },
   "file_extension": ".py",
   "mimetype": "text/x-python",
   "name": "python",
   "nbconvert_exporter": "python",
   "pygments_lexer": "ipython3",
   "version": "3.9.7"
  }
 },
 "nbformat": 4,
 "nbformat_minor": 4
}
