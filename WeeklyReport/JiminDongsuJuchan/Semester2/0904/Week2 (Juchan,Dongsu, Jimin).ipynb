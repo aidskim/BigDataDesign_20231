{
 "cells": [
  {
   "attachments": {},
   "cell_type": "markdown",
   "metadata": {},
   "source": [
    "# AI-DS Capstone Weekly Report\n",
    "- Team members: 21700365 Son Juchan, 21700411 Ahn Dongsu, 22000176 Kim Jimin\n",
    "- Meeting Date: 2023.09.04\n",
    "- Project Name: AI-DS Capstone Project\n",
    "- Project Goal: Machine Learning Model for baseball game prediction"
   ]
  },
  {
   "attachments": {},
   "cell_type": "markdown",
   "metadata": {},
   "source": [
    "### Weekly plan\n",
    "| Week    | Schedule        | Note                      |\n",
    "|---------|-----------------|---------------------------|\n",
    "| Week 1  | Finalizing Capstone project topic|- MLB 관련 주제로 방향성<br>  - 문헌 조사 및 데이터 수집 경로 확보 |\n",
    "| Week 2  | Data Collection & Preprocessing |- MLB Statcast에서 데이터 추출 및 전처리<br>- 종속변수와 독립변수 설정 |\n",
    "| Week 3 | Initial Prototyping  | - 참고 논문을 활용하여 프로토타입 모델 생성<br>(머신러닝(XGBoost)기반 미국프로야구(MLB)의 투구별 안타 및 홈런 예측 모델 개발) <br> - 프로토타입의 한계나 문제점 탐구|\n",
    "| Week 4 | Model Evaluation & Variable Adjustment |- 초기 모델 평가 및 변수 수정<br> - 참고 논문의 방법과 성능 비교<br> - 추가 변수 고려 및 모델별 성능 비교 계획 |\n",
    "| Week 5 |Prototype Refinement  |- 변수 수정을 통한 프로토타입 개선 및 재평가  |\n",
    "| Week 6 | Start Paper Writing | - 논문 작성 시작(서론 및 선행 연구)    |\n",
    "| Week 7 | Finalizing Midterm Presentation |- 중간 발표 준비 및 프로토타입 결과 요약   |\n",
    "| Week 8 |Midterm Presentation|<b> 중간발표: 프로젝트 진행 상황, 초기 결과, 피드백 반영 방안 공유 </b>|\n",
    "| Week 9 |Second Prototyping, Paper work |  \t- 개선된 변수와 설정으로 두 번째 프로토타입 구현 <br>- 논문 작성 (연구 방법 및 연구 절차)  |\n",
    "| Week 10 |Compare models & Paper work| - 모델별 성능 비교<br>- 논문 첨삭    |\n",
    "| Week 11 |Model Tuning & Optimization& Paper work| - 최고 성능 모델과 최적화 알고리즘 적용 <br>- 논문 작성 (연구 결과, 결론 및 제언)    |\n",
    "| Week 12 | Final Model Validation&Finalize Paper | \t- 최종 모델 검증 및 성능 측정<br> - 논문 첨삭 (논문 예상 투고일) |\n",
    "| Week 13 |Post-Submission Review and Revisions | - 논문 피드백 반영 및 수정<br>-코드와 데이터 정리: 프로젝트의 코드와 데이터를 정리하고, 필요한 문서화를 마무리   |\n",
    "| Week 14 |Final Adjustments |- 최종 검토: 모델, 논문, 발표자료 등 전체 프로젝트를 최종 검토   |\n",
    "| Week 15 |Prepare Presentation |  - 기말 발표 준비    |\n",
    "| Week 16 |Final Presentation| <b> 기말발표: 최종 결과와 논문 주요 내용 공유 </b>   |\n"
   ]
  },
  {
   "attachments": {},
   "cell_type": "markdown",
   "metadata": {},
   "source": [
    "### Summary of previous meeting\n",
    "- 변수 구체화: 주제에 대한 종속 변수가 아직 불명확→ 종속 변수는 labled 된 데이터를 우선으로 고려<br>(기존 연구에서 이미 사용된 변수라면 입증이 되었을 가능성이 크기 때문에 유용할 것)\n",
    "<br><br>\n",
    "- 주제 확정: 현재 데이터를 충분히 확보 경로가 정해졌으니 데이터를 최대한 많이 확보할 수 있으면서 연구 주제가 명확한 주제를 다음 시간까지 고르기.\n",
    "<br><br>\n",
    "- 주제 차별화: 이미 진행되었던 연구에서 칼럼 추가, 데이터 변환, 방법론 교체 등을 할 수 있음. \n",
    "<br><br>\n",
    "- 논리 설정: 변수 조합이나 방법론의 변경 등에는 그에 따른 논리가 필요\n"
   ]
  },
  {
   "attachments": {},
   "cell_type": "markdown",
   "metadata": {},
   "source": [
    "### Summary of working progress\n",
    "1. 데이터 수집\n",
    "- 현재 raw data에서 92개의 컬럼 확인 -> 논문을 참고하여 변수 선정하여 전처리 진행\n",
    "- 해당 변수 외에 pitch f/x 관련 변수 추가 고려 중\n",
    "<figure>\n",
    "      <img src=\"./그림1.png\" width=\"700\" height=\"400\">\n",
    "</figure>\n",
    "\n",
    "\n",
    "2. 로지스틱 회귀분석\n",
    "      1. 성능 지표\n",
    "       - 정확도 (Accuracy): 0.95490.9549 (약 95.49%)\n",
    "            - 클래스별 세부 지표:\n",
    "            - Class 0 (Event = 0)\n",
    "              - Precision: 0.98\n",
    "              - Recall: 0.97\n",
    "              - F1-Score: 0.97\n",
    "            - Class 1 (Event = 1)\n",
    "              - Precision: 0.83\n",
    "              - Recall: 0.88\n",
    "              - F1-Score: 0.85\n",
    "      2. 검증 지표\n",
    "            - ROC-AUC 점수: 0.98720.9872\n",
    "\n",
    "<br> \n",
    "\n",
    "3. 학술지 논문 투고\n",
    "   1. 한국 체육 측정 평가 학회 (http://www.ksme.re.kr/)\n",
    "    - 학회 일정: 연간 4회 (3월, 6월, 9월, 12월 각 30일 자)에 걸쳐서 전문 정기간발행물을 발행.<br>(11월 15일정도까지 투고해야 논문 발간 가능)\n",
    "    - 예시 논문 : 축구의 경기 결과 예측을 위한 머신러닝 기법 비교, 야구 경기 승패 예측을 위한 합성곱 신경망 (CNN) 최적화 연구\n",
    "   2.  한국 스포츠 학회 (http://www.ksso.or.kr/html/sub3_02.html)\n",
    "    - 학회 일정: 11월 15일정도까지 논문 투고 완성해야함\n",
    "    - 예시 논문: 빅데이터 기반 스포츠산업의 경영윤리 연구 동향 분석: 토픽 모델링을 활용하여"
   ]
  },
  {
   "attachments": {},
   "cell_type": "markdown",
   "metadata": {},
   "source": [
    "### Pending assignments or requests\n",
    "1. 미팅노트 작성\n",
    "2. 주간 보고서 (계획서 포함) 작성\n",
    "3. 학술 제출처 선정\n",
    "4. 주제 확정 후 데이터 전처리 시작 "
   ]
  }
 ],
 "metadata": {
  "kernelspec": {
   "display_name": "Python 3",
   "language": "python",
   "name": "python3"
  },
  "language_info": {
   "name": "python",
   "version": "3.9.13"
  },
  "orig_nbformat": 4
 },
 "nbformat": 4,
 "nbformat_minor": 2
}
