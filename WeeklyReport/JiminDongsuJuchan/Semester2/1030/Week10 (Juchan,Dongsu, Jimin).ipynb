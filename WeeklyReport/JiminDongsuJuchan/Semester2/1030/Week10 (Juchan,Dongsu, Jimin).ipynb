{
 "cells": [
  {
   "attachments": {},
   "cell_type": "markdown",
   "metadata": {},
   "source": [
    "# AI-DS Capstone Weekly Report\n",
    "- Team members: 21700365 Son Juchan, 21700411 Ahn Dongsu, 22000176 Kim Jimin\n",
    "- Meeting Date: 2023.10.30\n",
    "- Project Name: AI-DS Capstone Project\n",
    "- Project Goal: Machine Learning Model for baseball game prediction"
   ]
  },
  {
   "attachments": {},
   "cell_type": "markdown",
   "metadata": {},
   "source": [
    "### Weekly plan\n",
    "| Week    | Schedule        | Note                      |\n",
    "|---------|-----------------|---------------------------|\n",
    "| Week 1  | Finalizing Capstone project topic|- MLB 관련 주제로 방향성<br>  - 문헌 조사 및 데이터 수집 경로 확보 |\n",
    "| Week 2  | Data Collection & Preprocessing |- MLB Statcast에서 데이터 추출 및 전처리<br>- 종속변수와 독립변수 설정 |\n",
    "| Week 3 | Initial Prototyping  | - 참고 논문을 활용하여 프로토타입 모델 생성<br>(머신러닝(XGBoost)기반 미국프로야구(MLB)의 투구별 안타 및 홈런 예측 모델 개발) <br> - 프로토타입의 한계나 문제점 탐구|\n",
    "| Week 4 | Model Evaluation & Variable Adjustment |- 초기 모델 평가 및 변수 수정<br> - 참고 논문의 방법과 성능 비교<br> - 추가 변수 고려 및 모델별 성능 비교 계획 |\n",
    "| Week 5 |Prototype Refinement  |- 변수 수정을 통한 프로토타입 개선 및 재평가  |\n",
    "| Week 6 | Start Paper Writing | - 논문 작성 시작(서론 및 선행 연구)    |\n",
    "| Week 7 | Finalizing Midterm Presentation |- 중간 발표 준비 및 프로토타입 결과 요약   |\n",
    "| Week 8 |Midterm Presentation|<b> 중간발표: 프로젝트 진행 상황, 초기 결과, 피드백 반영 방안 공유 </b>|\n",
    "| Week 9 |Second Prototyping, Paper work |  \t- 개선된 변수와 설정으로 두 번째 프로토타입 구현 <br>- 논문 작성 (연구 방법 및 연구 절차)  |\n",
    "| Week 10 |Compare models & Paper work| - 모델별 성능 비교<br>- 논문 첨삭    |\n",
    "| Week 11 |Model Tuning & Optimization& Paper work| - 최고 성능 모델과 최적화 알고리즘 적용 <br>- 논문 작성 (연구 결과, 결론 및 제언)    |\n",
    "| Week 12 | Final Model Validation&Finalize Paper | \t- 최종 모델 검증 및 성능 측정<br> - 논문 첨삭 (논문 예상 투고일) |\n",
    "| Week 13 |Post-Submission Review and Revisions | - 논문 피드백 반영 및 수정<br>-코드와 데이터 정리: 프로젝트의 코드와 데이터를 정리하고, 필요한 문서화를 마무리   |\n",
    "| Week 14 |Final Adjustments |- 최종 검토: 모델, 논문, 발표자료 등 전체 프로젝트를 최종 검토   |\n",
    "| Week 15 |Prepare Presentation |  - 기말 발표 준비    |\n",
    "| Week 16 |Final Presentation| <b> 기말발표: 최종 결과와 논문 주요 내용 공유 </b>   |\n"
   ]
  },
  {
   "attachments": {},
   "cell_type": "markdown",
   "metadata": {},
   "source": [
    "### Previous meeting Report\n",
    "- Week 9: 노이즈 제거 및 모델 성능 향상 시도\n"
   ]
  },
  {
   "attachments": {},
   "cell_type": "markdown",
   "metadata": {},
   "source": [
    "### Summary of working progress\n",
    "\n"
   ]
  },
  {
   "cell_type": "markdown",
   "metadata": {},
   "source": [
    "### 1. 논문 제출\n",
    "- 현재 논문 초안 작성 완료 (결론 부분 제외)\n",
    "- 지금까지 작성한 내용을 토대로 결론 작성 후 수정 및 보완 작업 진행 예정"
   ]
  },
  {
   "cell_type": "markdown",
   "metadata": {},
   "source": [
    "### 2. 모델 성능 향상 작업\n",
    "1. 노이즈 제거\n",
    "2. 투수와 타자 유형 클러스터링\n",
    "- 투수와 타자의 특성을 분류한 논문을 토대로 클러스터링 진행\n",
    "- 투수 6개, 타자 5개의 클러스터 생성 후 변수 추가\n",
    "- 각 유형별로 출루율을 계산해 변수로 추가\n",
    "<br><br>\n",
    "-변수 추가 후 모델 재학습 결과\n",
    "  - LGBM: 81.6%\n",
    "  - XGBoost: 82.1%\n",
    "  - CatBoost: 82%"
   ]
  }
 ],
 "metadata": {
  "kernelspec": {
   "display_name": "Python 3",
   "language": "python",
   "name": "python3"
  },
  "language_info": {
   "name": "python",
   "version": "3.9.13"
  },
  "orig_nbformat": 4
 },
 "nbformat": 4,
 "nbformat_minor": 2
}
