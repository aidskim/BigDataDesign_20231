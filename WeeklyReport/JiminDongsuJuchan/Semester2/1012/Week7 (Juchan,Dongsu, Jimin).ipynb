{
 "cells": [
  {
   "attachments": {},
   "cell_type": "markdown",
   "metadata": {},
   "source": [
    "# AI-DS Capstone Weekly Report\n",
    "- Team members: 21700365 Son Juchan, 21700411 Ahn Dongsu, 22000176 Kim Jimin\n",
    "- Meeting Date: 2023.10.12\n",
    "- Project Name: AI-DS Capstone Project\n",
    "- Project Goal: Machine Learning Model for baseball game prediction"
   ]
  },
  {
   "attachments": {},
   "cell_type": "markdown",
   "metadata": {},
   "source": [
    "### Weekly plan\n",
    "| Week    | Schedule        | Note                      |\n",
    "|---------|-----------------|---------------------------|\n",
    "| Week 1  | Finalizing Capstone project topic|- MLB 관련 주제로 방향성<br>  - 문헌 조사 및 데이터 수집 경로 확보 |\n",
    "| Week 2  | Data Collection & Preprocessing |- MLB Statcast에서 데이터 추출 및 전처리<br>- 종속변수와 독립변수 설정 |\n",
    "| Week 3 | Initial Prototyping  | - 참고 논문을 활용하여 프로토타입 모델 생성<br>(머신러닝(XGBoost)기반 미국프로야구(MLB)의 투구별 안타 및 홈런 예측 모델 개발) <br> - 프로토타입의 한계나 문제점 탐구|\n",
    "| Week 4 | Model Evaluation & Variable Adjustment |- 초기 모델 평가 및 변수 수정<br> - 참고 논문의 방법과 성능 비교<br> - 추가 변수 고려 및 모델별 성능 비교 계획 |\n",
    "| Week 5 |Prototype Refinement  |- 변수 수정을 통한 프로토타입 개선 및 재평가  |\n",
    "| Week 6 | Start Paper Writing | - 논문 작성 시작(서론 및 선행 연구)    |\n",
    "| Week 7 | Finalizing Midterm Presentation |- 중간 발표 준비 및 프로토타입 결과 요약   |\n",
    "| Week 8 |Midterm Presentation|<b> 중간발표: 프로젝트 진행 상황, 초기 결과, 피드백 반영 방안 공유 </b>|\n",
    "| Week 9 |Second Prototyping, Paper work |  \t- 개선된 변수와 설정으로 두 번째 프로토타입 구현 <br>- 논문 작성 (연구 방법 및 연구 절차)  |\n",
    "| Week 10 |Compare models & Paper work| - 모델별 성능 비교<br>- 논문 첨삭    |\n",
    "| Week 11 |Model Tuning & Optimization& Paper work| - 최고 성능 모델과 최적화 알고리즘 적용 <br>- 논문 작성 (연구 결과, 결론 및 제언)    |\n",
    "| Week 12 | Final Model Validation&Finalize Paper | \t- 최종 모델 검증 및 성능 측정<br> - 논문 첨삭 (논문 예상 투고일) |\n",
    "| Week 13 |Post-Submission Review and Revisions | - 논문 피드백 반영 및 수정<br>-코드와 데이터 정리: 프로젝트의 코드와 데이터를 정리하고, 필요한 문서화를 마무리   |\n",
    "| Week 14 |Final Adjustments |- 최종 검토: 모델, 논문, 발표자료 등 전체 프로젝트를 최종 검토   |\n",
    "| Week 15 |Prepare Presentation |  - 기말 발표 준비    |\n",
    "| Week 16 |Final Presentation| <b> 기말발표: 최종 결과와 논문 주요 내용 공유 </b>   |\n"
   ]
  },
  {
   "attachments": {},
   "cell_type": "markdown",
   "metadata": {},
   "source": [
    "### Previous meeting Report\n",
    "- Week 6\n",
    "  1. 모델 성능 향상 시도\n",
    "    - 참고로 하고 있는 논문보다는 정확도가 높게 나와야 한다. (정확도를 75%보다 더 높히는 방향으로 시도)\n",
    "    - 변수 선택과 모델링의 조합을 여러 가지 시도해보고 최상의 결과가 나오도록 시도 많이 해볼 것\n",
    "<br><br>\n",
    "  2. 입력 or 하이퍼 파라미터 변수 조정\n",
    "    - 어떤 변수가 중요한지, 변수 사이의 관계가 어떤지 보여야 한다.\n",
    "    - vif와 상관관계 지수를 비교해보면서 확인해보는 시도\n",
    "    - 딥러닝도 하이퍼 파라미터 조정해보고 시도해볼 것\n",
    "    - 딥러닝은 모델이나 데이터의 복잡도가 높지 않은 이상 성능이 좋지 않을 수 있다. (ex. 이진 분류 같이 단순한 모델 같은 경우)\n",
    "\n",
    "\n",
    "**다음주 목표는 모델 개선**\n",
    "다음주 목요일도 7시"
   ]
  },
  {
   "attachments": {},
   "cell_type": "markdown",
   "metadata": {},
   "source": [
    "### Summary of working progress\n",
    "\n"
   ]
  },
  {
   "cell_type": "markdown",
   "metadata": {},
   "source": [
    "# 전처리 과정\n",
    "1. 변수선택\n",
    "- 로지스틱 회귀\n",
    "- Vif& corr\n",
    "- Domain knowlege\n",
    "2. 샘플링\n",
    "- 오버샘플링 (smote 기법)"
   ]
  },
  {
   "cell_type": "markdown",
   "metadata": {},
   "source": [
    " <figure>\n",
    "         <img src=\"./10_12_3.png\" width=\"700\" height=\"400\">\n",
    " </figure>"
   ]
  },
  {
   "cell_type": "markdown",
   "metadata": {},
   "source": [
    "## 1. Deep Learning Model\n",
    "### 사용 변수\n",
    "### 카테고리 변수\n",
    "- pitch_type\n",
    "- zone\n",
    "- stand\n",
    "- p_throws\n",
    "\n",
    "### 정수형 변수\n",
    "- balls\n",
    "- strikes\n",
    "\n",
    "### 실수형 변수\n",
    "- release_speed\n",
    "- release_pos_x\n",
    "- release_pos_y\n",
    "- release_spin_rate\n",
    "- release_extension\n",
    "- spin_axis\n",
    "\n",
    "#### 1). CNN Model\n",
    "- Precision: 0.6301396307481104\n",
    "- Recall: 0.6476307577132313\n",
    "- Accuracy: 0.6504059225349594\n",
    "\n",
    "#### 2). DNN Model\n",
    "- Precision: 0.6291989337250059\n",
    "- Recall: 0.648498816245609\n",
    "- Accuracy: 0.637030149136297\n",
    "\n",
    "## 2. Machine Learning Model\n",
    "### 사용 변수\n",
    "### 카테고리 변수\n",
    "- pitch_type\n",
    "- events\n",
    "- zone\n",
    "- stand\n",
    "- p_throws\n",
    "\n",
    "### 정수형 변수\n",
    "- balls\n",
    "- strikes\n",
    "- outs_when_up\n",
    "- inning\n",
    "- at_bat_number\n",
    "- pitch_number\n",
    "\n",
    "### 실수형 변수\n",
    "- release_speed\n",
    "- release_pos_x\n",
    "- release_pos_z\n",
    "- pfx_x\n",
    "- pfx_z\n",
    "- plate_x\n",
    "- plate_z\n",
    "- release_spin_rate\n",
    "- release_extension\n",
    "- release_pos_y\n",
    "- spin_axis\n",
    "- effective_speed\n",
    "\n",
    "#### 1). Random Forest\n",
    "- Accuracy: 0.7550823307777605\n",
    "- Precision: 0.769151320769952\n",
    "- Recall: 0.7550823307777605\n",
    "- F1 Score: 0.7133102410986998\n",
    "\n",
    "#### 2). CatBoost\n",
    "- CatBoost Accuracy: 0.7580512465869391\n",
    "- CatBoost Classification Report:\n",
    "\n",
    "|           | Precision | Recall | F1-Score | Support  |\n",
    "|-----------|-----------|--------|----------|----------|\n",
    "| 0         | 0.75      | 0.98   | 0.85     | 57265    |\n",
    "| 1         | 0.85      | 0.29   | 0.43     | 26604    |\n",
    "\n",
    "\n"
   ]
  },
  {
   "cell_type": "markdown",
   "metadata": {},
   "source": [
    "3. XGB, LGBM\n",
    " <figure>\n",
    "         <img src=\"./10_12_4.png\" width=\"700\" height=\"400\">\n",
    " </figure>"
   ]
  }
 ],
 "metadata": {
  "kernelspec": {
   "display_name": "Python 3",
   "language": "python",
   "name": "python3"
  },
  "language_info": {
   "name": "python",
   "version": "3.9.13"
  },
  "orig_nbformat": 4
 },
 "nbformat": 4,
 "nbformat_minor": 2
}
