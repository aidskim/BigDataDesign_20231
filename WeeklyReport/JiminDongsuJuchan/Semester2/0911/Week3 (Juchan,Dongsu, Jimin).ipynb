{
 "cells": [
  {
   "attachments": {},
   "cell_type": "markdown",
   "metadata": {},
   "source": [
    "# AI-DS Capstone Weekly Report\n",
    "- Team members: 21700365 Son Juchan, 21700411 Ahn Dongsu, 22000176 Kim Jimin\n",
    "- Meeting Date: 2023.09.11\n",
    "- Project Name: AI-DS Capstone Project\n",
    "- Project Goal: Machine Learning Model for baseball game prediction"
   ]
  },
  {
   "attachments": {},
   "cell_type": "markdown",
   "metadata": {},
   "source": [
    "### Weekly plan\n",
    "| Week    | Schedule        | Note                      |\n",
    "|---------|-----------------|---------------------------|\n",
    "| Week 1  | Finalizing Capstone project topic|- MLB 관련 주제로 방향성<br>  - 문헌 조사 및 데이터 수집 경로 확보 |\n",
    "| Week 2  | Data Collection & Preprocessing |- MLB Statcast에서 데이터 추출 및 전처리<br>- 종속변수와 독립변수 설정 |\n",
    "| Week 3 | Initial Prototyping  | - 참고 논문을 활용하여 프로토타입 모델 생성<br>(머신러닝(XGBoost)기반 미국프로야구(MLB)의 투구별 안타 및 홈런 예측 모델 개발) <br> - 프로토타입의 한계나 문제점 탐구|\n",
    "| Week 4 | Model Evaluation & Variable Adjustment |- 초기 모델 평가 및 변수 수정<br> - 참고 논문의 방법과 성능 비교<br> - 추가 변수 고려 및 모델별 성능 비교 계획 |\n",
    "| Week 5 |Prototype Refinement  |- 변수 수정을 통한 프로토타입 개선 및 재평가  |\n",
    "| Week 6 | Start Paper Writing | - 논문 작성 시작(서론 및 선행 연구)    |\n",
    "| Week 7 | Finalizing Midterm Presentation |- 중간 발표 준비 및 프로토타입 결과 요약   |\n",
    "| Week 8 |Midterm Presentation|<b> 중간발표: 프로젝트 진행 상황, 초기 결과, 피드백 반영 방안 공유 </b>|\n",
    "| Week 9 |Second Prototyping, Paper work |  \t- 개선된 변수와 설정으로 두 번째 프로토타입 구현 <br>- 논문 작성 (연구 방법 및 연구 절차)  |\n",
    "| Week 10 |Compare models & Paper work| - 모델별 성능 비교<br>- 논문 첨삭    |\n",
    "| Week 11 |Model Tuning & Optimization& Paper work| - 최고 성능 모델과 최적화 알고리즘 적용 <br>- 논문 작성 (연구 결과, 결론 및 제언)    |\n",
    "| Week 12 | Final Model Validation&Finalize Paper | \t- 최종 모델 검증 및 성능 측정<br> - 논문 첨삭 (논문 예상 투고일) |\n",
    "| Week 13 |Post-Submission Review and Revisions | - 논문 피드백 반영 및 수정<br>-코드와 데이터 정리: 프로젝트의 코드와 데이터를 정리하고, 필요한 문서화를 마무리   |\n",
    "| Week 14 |Final Adjustments |- 최종 검토: 모델, 논문, 발표자료 등 전체 프로젝트를 최종 검토   |\n",
    "| Week 15 |Prepare Presentation |  - 기말 발표 준비    |\n",
    "| Week 16 |Final Presentation| <b> 기말발표: 최종 결과와 논문 주요 내용 공유 </b>   |\n"
   ]
  },
  {
   "attachments": {},
   "cell_type": "markdown",
   "metadata": {},
   "source": [
    "### Previous meeting Report\n",
    "- Week 2 (2021.09.11)\n",
    "  - 로지스틱 회귀 재평가 (로지스틱 회귀 모델 다시 검토하고 성능 평가하기)\n",
    "  - 데이터 분석에서 근거 강화 (분석 시 데이터를 토대로 논리적인 근거를 제시해야 하 함)\n",
    "  - 다음주까지는 무조건 프레임워크 및 setting 결정해야한다. 프로젝트 제목, 예측 대상, 사용할 데이터, 구체적인 분석 방향 등 프레임워크를 결정할 것.\n",
    "  - 종속 변수 y를 다루는 방식에 대한 고민을 할 것. 이전 논문에서 사용되었던 변수를 그대로 사용하지 않고 다른 방식으로 사용해도 됨.\n",
    "  - 문제를 짚을 때 근거를 가져오는 방법 : 문제를 짚은 기존의 논문을 가져오기, 결과물로서 경험적으로 증명하기 \n",
    "\n",
    "\n"
   ]
  },
  {
   "attachments": {},
   "cell_type": "markdown",
   "metadata": {},
   "source": [
    "### Summary of working progress\n",
    "#### 1. 추가 문헌 조사\n",
    "   - 투수에 관련된 대부분의 논문이 구질을 예측하는 것에 초점을 맞추고 있음 -> 구질예측 이외의 연구가 본 프로젝트의 차별점이 될 수 있음을 시사\n",
    "   - '앙상블 기법을 활용한 미국프로야구 아웃과 출루 분류 모델'이라는 논문에서 아웃과 출루를 예측하는 것에 대한 중요성 입증 가능함을 확인\n",
    "      - Machine Learning Applications in Baseball: A SystematicLiterature Review (fastball / non-fastball)\n",
    "      - Applying Machine Learning Techniques to Baseball Pitch Prediction (fastball / non-fastball)\n",
    "      - A Dynamic Feature Selection Based LDA Approach to Baseball Pitch Prediction (fastball / non-fastball)\n",
    "      - Using multi-class classification methods to predict baseball pitch types (구질 다중 분류)\n",
    "      - 앙상블 기법을 활용한 미국프로야구 아웃과 출루 분류 모델 (아웃 / 출루)\n",
    "      - 머신러닝을 활용한 선발 투수 교체시기에 관한 연구 (교체 / 교체 안함)\n",
    "<br><br>\n",
    "#### 2. 변수 선정\n",
    "   1. RE24 개요\n",
    "      - RE24는 야구 경기에서의 특정 상황을 분류하기 위한 지표\n",
    "      - 아웃 카운트 (0, 1, 2)의 3가지 상황과 주자의 위치 (주자 없음, 1루, 2루, 3루, 1-2루, 1-3루, 2-3루, 만루)의 8가지 상황을 조합하여 총 24가지 상황을 표현\n",
    "      <figure>\n",
    "         <img src=\"./그림1.png\" width=\"700\" height=\"400\">\n",
    "      </figure>\n",
    "   2. KBO 기대득점 통계의 중요성\n",
    "      - KBO의 통계에 따르면, 출루와 아웃의 상황에 따라 득점의 기대값이 크게 달라지는 것을 확인\n",
    "      - 출루는 안타 (홈런 포함), 볼넷, 사구로 결정되며, 이러한 출루 상황마다 기대 득점 수치가 변경\n",
    "      - 출루와 아웃의 각각의 상황이 득점에 큰 영향을 미치기 때문에, 이를 정확하게 파악하는 것이 중요\n",
    "   3. 결론\n",
    "      - KBO의 통계를 통해 확인된 바와 같이, 출루와 아웃의 각 상황은 득점의 기대값에 큰 차이를 가져오는 것을 확인\n",
    "      - 수집한 데이터에서 투구 결과와 관련된 'event'라는 열을 아웃/출루로 분류하려 이를 종속변수로 설정\n",
    "<br><br>\n",
    "#### 3. 방법론 선정\n",
    "   - 기존 문헌들을 검토한 결과 다른 예측모델에 비해 앙상블 기법의 모델이 우수한 성능을 보여준 것이 나타나 배깅 및 부스팅 기반 방법의 매개변수 조정을 통해 분류성능을 향상 시킬 것으로 기대됨\n",
    "   - Gradient Boost, AdaBoost, Random Forest 3개를 돌릴 예정이며, 시간이 허락된다면 신경망 Neural Network를 돌릴 것으로 계획\n",
    "<br><br>  \n",
    "#### 4. 변수 설정\n",
    "   - 종속변수 : event (출루 / 아웃)\n",
    "   - 독립변수: \n",
    "     - 투수 릴리즈 포인트 (vertical Release point, Horizon, Extension)\n",
    "     - 투구 움직임 데이터(downward Movement w/ Gravity, arm/glove side movement, vertical movement w/o gravity, movement toward/away from batter)\n",
    "     - 투구 회전률\n",
    "     - <b>타자의 발사각도(LA, Exit velocity)</b>\n",
    "       - 기존 논문에서 사용한 데이터를 기반으로 종속 변수를 조정하고 필요한 변수들을 추가 예정\n",
    "      <figure>\n",
    "         <img src=\"./그림2.png\">\n",
    "      </figure>\n",
    "<br><br> \n",
    "#### 주제 확정\n",
    "   - \"투구와 타격 결과를 이용한 타자의 출루 예측\""
   ]
  }
 ],
 "metadata": {
  "kernelspec": {
   "display_name": "Python 3",
   "language": "python",
   "name": "python3"
  },
  "language_info": {
   "name": "python",
   "version": "3.9.13"
  },
  "orig_nbformat": 4
 },
 "nbformat": 4,
 "nbformat_minor": 2
}
