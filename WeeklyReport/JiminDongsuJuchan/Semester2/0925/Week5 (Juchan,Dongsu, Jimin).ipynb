{
 "cells": [
  {
   "attachments": {},
   "cell_type": "markdown",
   "metadata": {},
   "source": [
    "# AI-DS Capstone Weekly Report\n",
    "- Team members: 21700365 Son Juchan, 21700411 Ahn Dongsu, 22000176 Kim Jimin\n",
    "- Meeting Date: 2023.09.25\n",
    "- Project Name: AI-DS Capstone Project\n",
    "- Project Goal: Machine Learning Model for baseball game prediction"
   ]
  },
  {
   "attachments": {},
   "cell_type": "markdown",
   "metadata": {},
   "source": [
    "### Weekly plan\n",
    "| Week    | Schedule        | Note                      |\n",
    "|---------|-----------------|---------------------------|\n",
    "| Week 1  | Finalizing Capstone project topic|- MLB 관련 주제로 방향성<br>  - 문헌 조사 및 데이터 수집 경로 확보 |\n",
    "| Week 2  | Data Collection & Preprocessing |- MLB Statcast에서 데이터 추출 및 전처리<br>- 종속변수와 독립변수 설정 |\n",
    "| Week 3 | Initial Prototyping  | - 참고 논문을 활용하여 프로토타입 모델 생성<br>(머신러닝(XGBoost)기반 미국프로야구(MLB)의 투구별 안타 및 홈런 예측 모델 개발) <br> - 프로토타입의 한계나 문제점 탐구|\n",
    "| Week 4 | Model Evaluation & Variable Adjustment |- 초기 모델 평가 및 변수 수정<br> - 참고 논문의 방법과 성능 비교<br> - 추가 변수 고려 및 모델별 성능 비교 계획 |\n",
    "| Week 5 |Prototype Refinement  |- 변수 수정을 통한 프로토타입 개선 및 재평가  |\n",
    "| Week 6 | Start Paper Writing | - 논문 작성 시작(서론 및 선행 연구)    |\n",
    "| Week 7 | Finalizing Midterm Presentation |- 중간 발표 준비 및 프로토타입 결과 요약   |\n",
    "| Week 8 |Midterm Presentation|<b> 중간발표: 프로젝트 진행 상황, 초기 결과, 피드백 반영 방안 공유 </b>|\n",
    "| Week 9 |Second Prototyping, Paper work |  \t- 개선된 변수와 설정으로 두 번째 프로토타입 구현 <br>- 논문 작성 (연구 방법 및 연구 절차)  |\n",
    "| Week 10 |Compare models & Paper work| - 모델별 성능 비교<br>- 논문 첨삭    |\n",
    "| Week 11 |Model Tuning & Optimization& Paper work| - 최고 성능 모델과 최적화 알고리즘 적용 <br>- 논문 작성 (연구 결과, 결론 및 제언)    |\n",
    "| Week 12 | Final Model Validation&Finalize Paper | \t- 최종 모델 검증 및 성능 측정<br> - 논문 첨삭 (논문 예상 투고일) |\n",
    "| Week 13 |Post-Submission Review and Revisions | - 논문 피드백 반영 및 수정<br>-코드와 데이터 정리: 프로젝트의 코드와 데이터를 정리하고, 필요한 문서화를 마무리   |\n",
    "| Week 14 |Final Adjustments |- 최종 검토: 모델, 논문, 발표자료 등 전체 프로젝트를 최종 검토   |\n",
    "| Week 15 |Prepare Presentation |  - 기말 발표 준비    |\n",
    "| Week 16 |Final Presentation| <b> 기말발표: 최종 결과와 논문 주요 내용 공유 </b>   |\n"
   ]
  },
  {
   "attachments": {},
   "cell_type": "markdown",
   "metadata": {},
   "source": [
    "### Previous meeting Report\n",
    "- Week 4 (2021.09.25)\n",
    "  - 변수 선정 아직 미완성 단계임. 기존의 논문과 변수가 너무 비슷하다는 문제점을 가지고 있음. \n",
    "  - 추가적인 변수 선정 방법 (변수들 간의 상관관계를 구한 다음 회귀분석을 통해 변수 선정 진행, 모든 변수를 모델 안에 넣고 중요한 변수 경험적으로 선별)\n",
    "  - 정확한 결과값을 얻기 위해 데이터를 표준화하거나 정규화할 필요가 있음 (변수의 스케일링 작업을 거쳐야 할 것)\n",
    "  - 모델의 성능을 극대화하기 위해 하이퍼파라미터 튜닝 작업을 거쳐야 할 것 (Bayesian Optimization, Grid Search, Random Search)\n",
    "<br><br>\n",
    "- 5주차 과제\n",
    "  - 변수 pool을 확장하여 다양한 변수 고려하기 \n",
    "  - 다양한 모델링 방법론 구현하기\n"
   ]
  },
  {
   "attachments": {},
   "cell_type": "markdown",
   "metadata": {},
   "source": [
    "### Summary of working progress\n",
    "#### 1. 추가 변수 고려 (변수간 상관관계)\n",
    "\n",
    "| 항목                            | 상관계수 | 주요 포인트                       |\n",
    "|-------------------------------|---------|--------------------------------|\n",
    "| **woba_value**                 | 0.905   | 매우 강한 양의 상관관계            |\n",
    "| **delta_run_exp**              | 0.779   | 강한 양의 상관관계                |\n",
    "| **babip_value**                | 0.710   | 강한 양의 상관관계                |\n",
    "| **type_B**                     | 0.477   | 중간의 양의 상관관계              |\n",
    "| **type_S**                     | -0.377  | 중간의 음의 상관관계              |\n",
    "| **description_swinging_strike**| -0.282  | 중간의 음의 상관관계            |\n",
    "\n",
    "\n",
    "\n",
    "---\n",
    "\n",
    "#### 하이퍼파라미터 튜닝 전략\n",
    "\n",
    "**문제 상황**: \n",
    "- 현재 데이터의 크기가 크므로, 모든 가능한 하이퍼파라미터 조합을 탐색하는 Grid Search는 많은 시간이 소요되는 문제 발생\n",
    "\n",
    "**제안하는 접근법**:\n",
    "1. **Random Search**: \n",
    "   - 먼저 Random Search를 사용하여 하이퍼파라미터의 광범위한 조합을 빠르게 탐색\n",
    "   - 이를 통해 초기에 괜찮은 하이퍼파라미터 값을 탐색\n",
    "\n",
    "2. **Bayesian Optimization**: \n",
    "   - Random Search를 통해 얻은 초기 값을 기반으로 Bayesian Optimization을 수행하여 더 정밀하게 하이퍼파라미터를 튜닝\n",
    "   - Bayesian Optimization은 이전 탐색 결과를 기반으로 최적의 하이퍼파라미터 값을 예측하므로, 더 적은 탐색 횟수로 높은 성능의 모델을 얻을 수 있습니다.\n",
    "\n",
    "**결론**:\n",
    "- 데이터의 크기와 복잡성을 고려할 때, 먼저 Random Search로 초기 탐색을 진행한 후 Bayesian Optimization을 사용하는 것이 균형 잡힌 접근법으로 판단됩니다.\n",
    "\n",
    "---\n"
   ]
  }
 ],
 "metadata": {
  "kernelspec": {
   "display_name": "Python 3",
   "language": "python",
   "name": "python3"
  },
  "language_info": {
   "name": "python",
   "version": "3.9.13"
  },
  "orig_nbformat": 4
 },
 "nbformat": 4,
 "nbformat_minor": 2
}
