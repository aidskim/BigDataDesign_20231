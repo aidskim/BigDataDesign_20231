{
 "cells": [
  {
   "attachments": {},
   "cell_type": "markdown",
   "metadata": {},
   "source": [
    "# AI-DS Capstone Weekly Report\n",
    "- Team members: 21700365 Son Juchan, 21700411 Ahn Dongsu, 22000176 Kim Jimin\n",
    "- Meeting Date: 2023.11.06\n",
    "- Project Name: AI-DS Capstone Project\n",
    "- Project Goal: Machine Learning Model for baseball game prediction"
   ]
  },
  {
   "attachments": {},
   "cell_type": "markdown",
   "metadata": {},
   "source": [
    "### Weekly plan\n",
    "| Week    | Schedule        | Note                      |\n",
    "|---------|-----------------|---------------------------|\n",
    "| Week 1  | Finalizing Capstone project topic|- MLB 관련 주제로 방향성<br>  - 문헌 조사 및 데이터 수집 경로 확보 |\n",
    "| Week 2  | Data Collection & Preprocessing |- MLB Statcast에서 데이터 추출 및 전처리<br>- 종속변수와 독립변수 설정 |\n",
    "| Week 3 | Initial Prototyping  | - 참고 논문을 활용하여 프로토타입 모델 생성<br>(머신러닝(XGBoost)기반 미국프로야구(MLB)의 투구별 안타 및 홈런 예측 모델 개발) <br> - 프로토타입의 한계나 문제점 탐구|\n",
    "| Week 4 | Model Evaluation & Variable Adjustment |- 초기 모델 평가 및 변수 수정<br> - 참고 논문의 방법과 성능 비교<br> - 추가 변수 고려 및 모델별 성능 비교 계획 |\n",
    "| Week 5 |Prototype Refinement  |- 변수 수정을 통한 프로토타입 개선 및 재평가  |\n",
    "| Week 6 | Start Paper Writing | - 논문 작성 시작(서론 및 선행 연구)    |\n",
    "| Week 7 | Finalizing Midterm Presentation |- 중간 발표 준비 및 프로토타입 결과 요약   |\n",
    "| Week 8 |Midterm Presentation|<b> 중간발표: 프로젝트 진행 상황, 초기 결과, 피드백 반영 방안 공유 </b>|\n",
    "| Week 9 |Second Prototyping, Paper work |  \t- 개선된 변수와 설정으로 두 번째 프로토타입 구현 <br>- 논문 작성 (연구 방법 및 연구 절차)  |\n",
    "| Week 10 |Compare models & Paper work| - 모델별 성능 비교<br>- 논문 첨삭    |\n",
    "| Week 11 |Model Tuning & Optimization& Paper work| - 최고 성능 모델과 최적화 알고리즘 적용 <br>- 논문 작성 (연구 결과, 결론 및 제언)    |\n",
    "| Week 12 | Final Model Validation&Finalize Paper | \t- 최종 모델 검증 및 성능 측정<br> - 논문 첨삭 (논문 예상 투고일) |\n",
    "| Week 13 |Post-Submission Review and Revisions | - 논문 피드백 반영 및 수정<br>-코드와 데이터 정리: 프로젝트의 코드와 데이터를 정리하고, 필요한 문서화를 마무리   |\n",
    "| Week 14 |Final Adjustments |- 최종 검토: 모델, 논문, 발표자료 등 전체 프로젝트를 최종 검토   |\n",
    "| Week 15 |Prepare Presentation |  - 기말 발표 준비    |\n",
    "| Week 16 |Final Presentation| <b> 기말발표: 최종 결과와 논문 주요 내용 공유 </b>   |\n"
   ]
  },
  {
   "attachments": {},
   "cell_type": "markdown",
   "metadata": {},
   "source": [
    "### Previous meeting Report\n",
    "- Week 10 \n",
    "  - 2023 추계종합학술대회 및 대학생논문경진대회 지원\n"
   ]
  },
  {
   "attachments": {},
   "cell_type": "markdown",
   "metadata": {},
   "source": [
    "### Summary of working progress\n",
    "\n"
   ]
  },
  {
   "cell_type": "markdown",
   "metadata": {},
   "source": [
    "### 1. 논문 제출 일정\n",
    "- 한국체육측정평가학회\n",
    "  - 1. 일정\n",
    "    - (1) 논문 투고 마감: 2023년 11월 15일(수)\n",
    "    - (2) 논문 발행 일자: 2023년 12월 31일(일)\n",
    "  - 2. 절차\n",
    "    - (1) 논문 샘플 양식 다이렉트 다운로드 링크 ( https://drive.google.com/uc?export=download&id=1InLXjAwZM0OrpGA9MFe0-CB4h3d85H61 )\n",
    "    - (2) 한국체육측정평가학회 (http://www.ksme.re.kr/) : 정회원 가입 \n",
    "    - (3) 온라인 논문 투고 시스템 회원 가입  ( http://ksme.jams.or.kr ) -논문 심사 시스템 이용 방법 참고: ( http://www.ksme.re.kr/index.php?mid=notice&category=341&document_srl=2248 )"
   ]
  },
  {
   "cell_type": "markdown",
   "metadata": {},
   "source": [
    "### 2. 모델 성능 향상 작업\n",
    "1. 다른 클러스터링 방법 시도\n",
    "   - K-means -> DBSCAN\n",
    "     - dbscan 실루엣 점수를 기반으로 eps, min_samples를  그리드 서치를 시도해서 best parameters를 이용해 군집을 분류 -> 불균형한 결과\n",
    "       - 0: 727\n",
    "       - -1: 10\n",
    "2. 앙상블 기법 시도\n",
    "   - XGBoost \n",
    "   - Ensemble Accuracy: 0.8219801658266949\n",
    "   - Ensemble Accuracy: 0.8219982297368088 (weight 2배)<br>\n",
    "     -유의미한 결과를 도출해낼 수 없었다."
   ]
  }
 ],
 "metadata": {
  "kernelspec": {
   "display_name": "Python 3",
   "language": "python",
   "name": "python3"
  },
  "language_info": {
   "name": "python",
   "version": "3.9.13"
  },
  "orig_nbformat": 4
 },
 "nbformat": 4,
 "nbformat_minor": 2
}
