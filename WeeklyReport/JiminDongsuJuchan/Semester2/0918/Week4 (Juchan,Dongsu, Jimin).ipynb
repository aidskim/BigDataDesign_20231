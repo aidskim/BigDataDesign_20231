{
 "cells": [
  {
   "attachments": {},
   "cell_type": "markdown",
   "metadata": {},
   "source": [
    "# AI-DS Capstone Weekly Report\n",
    "- Team members: 21700365 Son Juchan, 21700411 Ahn Dongsu, 22000176 Kim Jimin\n",
    "- Meeting Date: 2023.09.118\n",
    "- Project Name: AI-DS Capstone Project\n",
    "- Project Goal: Machine Learning Model for baseball game prediction"
   ]
  },
  {
   "attachments": {},
   "cell_type": "markdown",
   "metadata": {},
   "source": [
    "### Weekly plan\n",
    "| Week    | Schedule        | Note                      |\n",
    "|---------|-----------------|---------------------------|\n",
    "| Week 1  | Finalizing Capstone project topic|- MLB 관련 주제로 방향성<br>  - 문헌 조사 및 데이터 수집 경로 확보 |\n",
    "| Week 2  | Data Collection & Preprocessing |- MLB Statcast에서 데이터 추출 및 전처리<br>- 종속변수와 독립변수 설정 |\n",
    "| Week 3 | Initial Prototyping  | - 참고 논문을 활용하여 프로토타입 모델 생성<br>(머신러닝(XGBoost)기반 미국프로야구(MLB)의 투구별 안타 및 홈런 예측 모델 개발) <br> - 프로토타입의 한계나 문제점 탐구|\n",
    "| Week 4 | Model Evaluation & Variable Adjustment |- 초기 모델 평가 및 변수 수정<br> - 참고 논문의 방법과 성능 비교<br> - 추가 변수 고려 및 모델별 성능 비교 계획 |\n",
    "| Week 5 |Prototype Refinement  |- 변수 수정을 통한 프로토타입 개선 및 재평가  |\n",
    "| Week 6 | Start Paper Writing | - 논문 작성 시작(서론 및 선행 연구)    |\n",
    "| Week 7 | Finalizing Midterm Presentation |- 중간 발표 준비 및 프로토타입 결과 요약   |\n",
    "| Week 8 |Midterm Presentation|<b> 중간발표: 프로젝트 진행 상황, 초기 결과, 피드백 반영 방안 공유 </b>|\n",
    "| Week 9 |Second Prototyping, Paper work |  \t- 개선된 변수와 설정으로 두 번째 프로토타입 구현 <br>- 논문 작성 (연구 방법 및 연구 절차)  |\n",
    "| Week 10 |Compare models & Paper work| - 모델별 성능 비교<br>- 논문 첨삭    |\n",
    "| Week 11 |Model Tuning & Optimization& Paper work| - 최고 성능 모델과 최적화 알고리즘 적용 <br>- 논문 작성 (연구 결과, 결론 및 제언)    |\n",
    "| Week 12 | Final Model Validation&Finalize Paper | \t- 최종 모델 검증 및 성능 측정<br> - 논문 첨삭 (논문 예상 투고일) |\n",
    "| Week 13 |Post-Submission Review and Revisions | - 논문 피드백 반영 및 수정<br>-코드와 데이터 정리: 프로젝트의 코드와 데이터를 정리하고, 필요한 문서화를 마무리   |\n",
    "| Week 14 |Final Adjustments |- 최종 검토: 모델, 논문, 발표자료 등 전체 프로젝트를 최종 검토   |\n",
    "| Week 15 |Prepare Presentation |  - 기말 발표 준비    |\n",
    "| Week 16 |Final Presentation| <b> 기말발표: 최종 결과와 논문 주요 내용 공유 </b>   |\n"
   ]
  },
  {
   "attachments": {},
   "cell_type": "markdown",
   "metadata": {},
   "source": [
    "### Previous meeting Report\n",
    "- Week 3 (2021.09.11)\n",
    "  - 주제 픽스: 투구에 대한 기록을 활용한 예측 모델 개발 <br>투구에 대한 기록을 활용한 예측 모델을 개발하게 된다면 니즈가 없음 -> 데이터에 시차가 있게끔 가공하여 직전 타자와 했던 마지막 기록을 가지고 Y변수를 예측하는 방법으로 모델링 진행.\n",
    "<br><br>\n",
    "- 다음주까지 과제:\n",
    "  1.   데이터셋 구성하기 (각각의 줄이 어떻게 define 되는지 clarify하고 칼럼 필요한 것 다 집어넣기)\n",
    "\n",
    "\n"
   ]
  },
  {
   "attachments": {},
   "cell_type": "markdown",
   "metadata": {},
   "source": [
    "### Summary of working progress\n",
    "#### 1. 데이터 수집 및 전처리\n",
    "- 데이터 수집: Mlb statcast 데이터 2020-2022 사용 (2020, 2021,2022 데이터 결합)\n",
    "- 데이터 전처리\n",
    "  1. 변수 선택:\n",
    "\n",
    "| 변수명 | 설명 |\n",
    "|--------|------|\n",
    "| `events` | 플레이에 대한 결과나 이벤트 (예: 안타, 삼진, 볼넷 등) |\n",
    "| `pitch_type` | 투구의 종류 (예: 빠른 공, 커브, 슬라이더 등) |\n",
    "| `release_speed` | 투수가 공을 던질 때의 속도 |\n",
    "| `release_spin_rate` | 투구의 회전 속도 |\n",
    "| `spin_axis` | 투구의 회전 축 |\n",
    "| `release_extension` | 투구 포인트에서 공이 놓여진 위치까지의 거리 |\n",
    "| `release_pos_x` | 투수가 공을 던질 때의 x좌표 위치 |\n",
    "| `release_pos_y` | 투수가 공을 던질 때의 y좌표 위치 |\n",
    "| `zone` | 공이 도착한 스트라이크 존의 위치 |\n",
    "| `balls` | 현재 볼 카운트 |\n",
    "| `strikes` | 현재 스트라이크 카운트 |\n",
    "| `stand` | 타자의 서있는 위치 |\n",
    "| `p_throws` | 투수가 어느 손으로 공을 던지는지 |\n",
    "\n",
    "   2. 결측치 처리: 결측치가 있는 행은 제거\n",
    "      <figure>\n",
    "         <img src=\"./그림1.png\" width=\"700\" height=\"400\">\n",
    "      </figure>\n",
    "      - Na 값이 많지않아 제거하기로 결정 <br>\n",
    "      - raw data: 421879 rows x 92 column <br>\n",
    "      - 전처리 후: 419414 x 13\n",
    "  <br><br>\n",
    "   3. 범주형 변수 처리<br>\n",
    "      - (Pitch type : 공구종)<br>\n",
    "        - 1 : FF, SI, FC<br>\n",
    "        - 2 : SL,KC, CU, CS, KN, EP, SV , ST<br>\n",
    "        - 3 : FS, CH, SC<br>\n",
    "      - (Event 출루: 1 , 아웃 : 0 )<br>\n",
    "        - 1 : ‘single’, ’double’, ’triple’, 'home_run’, ‘walk’,’ hit_by_pitch' <br>\n",
    "        - 0 : ‘field_out' , 'strikeout' ,’force_out’,  'grounded_into_double_play' , 'double_play’,  'fielders_choice' ,’strikeout_double_play’, ‘fielders_choice_out’,  ‘triple_play'<br>\n",
    "      - (Stand 타자 타석 R,L / 투수 주손 p_throw R,L 1,2 로 변환)<br>\n",
    "- 최종 전처리 후 모습\n",
    "<figure>\n",
    "         <img src=\"./그림2.png\" width=\"700\" height=\"400\">\n",
    "</figure>\n"
   ]
  },
  {
   "cell_type": "markdown",
   "metadata": {},
   "source": [
    "간단하게 앙상블 기법 매개변수 default로  xgboost, adaboost, randomforest 모델 적용 <br> \n",
    "Xgb, ada, rf는 기본적으로 데이터 스케일링이 필요하지 않음.<br>\n",
    "(필요시 모델 성능을 더 올리기 위해 시도할 수는 있음.)\n",
    "\n",
    "| 모델 | 정확도 | 정밀도 | 재현율 | F1점수 |\n",
    "|--------|------|----|------|----|\n",
    "| XGB| 0.741 |0.745|0.741 |0.697| \n",
    "| ADABoost | 0.731 |0.73| 0.731| 0.68|\n",
    "| RF | 0.734 |0.729|0.735 |0.69 |\n",
    "\n",
    "- Xgboost에서 확인한 변수 중요도\n",
    "<figure>\n",
    "         <img src=\"./그림3.png\" width=\"700\" height=\"400\">\n",
    "</figure>\n",
    "\n",
    "- 변수 중요도에 따른 중요변수만 돌렸을 때, 성능이 오히려 감소했다.\n",
    "- 중요변수만 돌리기 : release_speed, release_spin_rate, release_pos_x, spin_axis, release_pos_y, zone\n",
    "\n",
    "| 모델 | 정확도 | 정밀도 | 재현율 | F1점수 |\n",
    "|--------|------|----|------|----|\n",
    "| XGB| 0.69 |0.66|0.69 |0.617| \n",
    "\n",
    "\n",
    "- 상관관계\n",
    "<figure>\n",
    "         <img src=\"./그림 4.png\" width=\"700\" height=\"400\">\n",
    "</figure>"
   ]
  },
  {
   "cell_type": "markdown",
   "metadata": {},
   "source": [
    "- 앞으로의 방향 : \n",
    "  - 하이퍼파라미터 튜닝, 변수선택 및 특성 엔지니어링 , 앙상블 등을 통해 모델 성능 높이기.<br><br>\n",
    "\n",
    "- 적용 및 탐색 : \n",
    "    - 과거 투수 데이터 기록을 이용하여 Mlb 투수의 올시즌 출루 Or 아웃 예측\n"
   ]
  }
 ],
 "metadata": {
  "kernelspec": {
   "display_name": "Python 3",
   "language": "python",
   "name": "python3"
  },
  "language_info": {
   "name": "python",
   "version": "3.9.13"
  },
  "orig_nbformat": 4
 },
 "nbformat": 4,
 "nbformat_minor": 2
}
