{
 "cells": [
  {
   "attachments": {},
   "cell_type": "markdown",
   "metadata": {},
   "source": [
    "# Weekly Report\n",
    "- Team members: 21700365 Son Juchan, 21700411 Ahn Dongsu, 22000176 Kim Jimin\n",
    "- Meeting Date: 2023.05.12\n",
    "- Project Name: Big Data Capstone Design\n",
    "- Project Goal: Capstone Topic Selection and Proposal Writing"
   ]
  },
  {
   "attachments": {},
   "cell_type": "markdown",
   "metadata": {},
   "source": [
    "### Weekly plan\n",
    "\n",
    "| Week    | Schedule        | Note                      |\n",
    "|---------|-----------------|---------------------------|\n",
    "| Week 9  | 2023.04.27<br>Topic selection and clarification | Presentation of individual interest topics |\n",
    "| Week 10 | 2023.05.03 <br> Data search and exploration  | Selection Topic: <b>Analysis of Disaster Vulnerable Areas<b>    |\n",
    "| Week 11 | 2023.05.10 <br> 문헌조사 |지민 : 논문조사, 김정현 교수님 미팅 <br>  동수 : 논문조사, 김정현 교수님 미팅 , 차별화에 대해 고민  <br> 주찬 : 논문조사 |\n",
    "| Week 12 | 2023.05.17 <br> Data visualization and methodology selection |       |\n",
    "| Week 13 | 2023.05.20 <br> Basic modeling |         |\n",
    "| Week 14 | 2023.05.27 <br>  Model development after feedback |            |\n",
    "| Week 15 | 2023.05.30  <br> Presentation preparation|        |\n",
    "| Week 16 | 2023.06.07  <br> Final presentation|      |\n",
    "\n"
   ]
  },
  {
   "attachments": {},
   "cell_type": "markdown",
   "metadata": {},
   "source": [
    "### Summary of previous meeting\n",
    "- Previous discussion: \n",
    "재난 분석 중 산불에 관해 예측하는 모델링으로 주제를 바꿈. \n",
    "<br>\n",
    "- Comments from Professor: <br> \n",
    "산불 예측 모델링에 관해 논문조사, 충분한 레퍼런스가 필요하다고 하심.<br>\n",
    "이전에 실시했던 산불예측 모델링과 어떤 차별화를 둘 것인지 고민이 필요하다고 하심 <br> \n",
    "<br>\n",
    "- Previous plan: \n",
    "   - 이전에 실시한 산불 예측 모델링 레퍼런스 조사 \n",
    "   - 어떻게 차별화를 둘 것인가"
   ]
  },
  {
   "attachments": {},
   "cell_type": "markdown",
   "metadata": {},
   "source": [
    "### Summary of working progress\n",
    "\n",
    "\n",
    "- Progress 1: 산불 예측 모델링에 관한 문헌조사(논문)\n",
    "  \n",
    "  - 기상적 오차를 줄이기 위해 구역별로 나눔.\n",
    "  - 산불 예측 모델링을 논문을 살펴본 결과, 산불 예측 요인 (데이터) 변수로 강수량, 상대습도, 기온, 풍속들을 사용\n",
    "  - 실제로 산불과 관계성 있음을 확인.(대형산불 예방,대응을 위한 최신 기술개발의 현황 및 과제 -한국산불기술협회-)\n",
    "  - 모델링 : 로지스틱 회귀분석, randomforest, xgboost, 단층신경망, 다층신경망 사용.\n",
    "  - 인위적 요인(산림, 농경지, 도로, 묘지, 관공서로부터의 거리)을 고려한 논문도 존재함. 우리나라의 산불이 입산자 부주의에 발생한 산불 발생률 43%.\n",
    "\n",
    "\n",
    "<br>\n",
    "\n",
    "- 참고한 논문 :\n",
    "  - 머신러닝과 샘플링을 이용한 강원도 지역 산불발생예측모형 개발\n",
    "  - 기상 데이터를 이용한 산불 피해규모의 예측방법연구\n",
    "  - 캐나다 산불 기상지수를 이용한 산불발생확률모형 개발\n",
    "  - 대형산불 예방.대응을 위한 최신 기술개발의 현황 및 과제\n",
    "  - 머신러닝을 활용한 산불발생예측모형 개발과 과제\n",
    "  - 로지스틱 회귀모형을 이용한 산불 발생확률 모형 개발\n",
    "  - 봄철과 가을철의 기상에 의한 전국 통합 산불발생확률 모형 개발"
   ]
  },
  {
   "attachments": {},
   "cell_type": "markdown",
   "metadata": {},
   "source": [
    "- Progress 2: 차별화\n",
    "\n",
    "  - 데이터를 통해 경북같은 경우 지역에 따라 산불 발생원인 다름을 확인함. \n",
    "    ex) (칠곡·경산·영천은 시·군청과의 거리, 휴양림과 묘지로부터의 최소거리와 같은 인적 접근성 요인(입산자 실화)이 산불 발생에 주요하게 작용함.)\n",
    "  - 구역별로 요인을 다르게 가중치를 두어 모델링. (기상적 요인 + 인위적 요인을 같이 볼 지역, 기상적 요인만 볼 지역)\n",
    "  - 인위적 요인(쓰레기 소각, 밭두렁 소각, 건축물 화재 등)을 더 조사하여 요인 변수 추가를 고민.\n",
    "  - 모델링 방법을 변경.\n",
    "\n",
    "<br>\n",
    "\n",
    "- 산불 피해자의 삶의 질에 영향을 미치는 요인: 울진/삼척 산불을 중심으로\n",
    "  - 연구 목적: 산불의 규모가 대형화됨에 따라 인명 및 재산, 심리적으로 피해를 주는 재난으로 변화함. 따라서 산불피해자 관점을 고려하여 피해자들의 삶의 질을 신속하게 복구하기 위해 정부의 지지, PTSD 및 회복탄력성이 삶의 질에 미치는 영향을 분석\n",
    "  - 연구 방법: 구조방정식 모형을 통해 산불피해자들의 삶의 질에 영향을 미치는 정의적 요인들의 구조적 관계를 파악 (정부의 지지, PTSD, 회복탄력성이 삶의 질에 미치는 영향 관계 분석)\n",
    "  - 필요한 데이터: 설문지 (삶의 질 6문 항, 정부의 지지 8문항, PTSD 5문항, 회복탄력성 5문항을 포함하여 4개의 정의적 요인에서 총 24문항)\n",
    "  - 결과: 연구 결과를 통해 삶의 질에 긍정적인 영향을 미치는 주요한 변수, PTSD 증상을 완화해주는 보호요인임을 밝힘.\n",
    "\n",
    "<br>\n",
    "\n",
    "\n",
    "\n",
    "- 프로젝트: 산불 취약지역 예상 알고리즘 개발 <br>\n",
    "- 사용 방법\n",
    "  - 의사결정 트리(Decision Tree)\n",
    "  - 랜덤 포레스트(Random Forest)\n",
    "  - GIS\n",
    "<br>\n",
    "- 사용 변수\n",
    "  - 진/출입로\n",
    "  - 도로폭\n",
    "  - 산림 이격거리\n",
    "  - 산림특징\n",
    "  - 지붕특성\n",
    "  - 진화자원 접근\n",
    "  - 소방서와의 거리\n",
    "  - 노면상태\n",
    "  - 창문\n",
    "  - 인접 경사지역\n",
    "  - 담수지 가용성\n",
    "  - 내벽특성\n",
    "<br>\n",
    "- 사용 데이터\n",
    "  - 산림청_산불발생통계(대국민포털) : https://www.data.go.kr/data/3070842/openapi.do\n",
    "  - 산림청_산불발생위치도 : https://www.data.go.kr/data/3062614/openapi.do\n",
    "  - 도로(현황) : http://data.nsdi.go.kr/dataset/12969\n",
    "<br>\n",
    "- 참고문헌\n",
    "  - 박형모, 이수민, 이민영, & 김남근. (2022). 인공지능 기반의 위성영상 분석을 이용한 시설물의 산불취약지수 계산 알고리즘 개발. 대한기계학회 춘추학술대회, 2293-2293.\n",
    "  - 윤정인, 이주영, 박장섭, 정구홍, & 이진우. (2021). 산불 재해에 대한 도시의 취약도 분석 방법론 제안: 캘리포니아 케이스 위주로. 대한교통학회 학술대회지, 436-437.\n"
   ]
  },
  {
   "attachments": {},
   "cell_type": "markdown",
   "metadata": {},
   "source": [
    "### Pending assignments or requests\n",
    "- pending assingments: 차별화를 어떻게 싶을까 고민이 더 필요함. (방법론적으로 차별화 할지, 변수를 더 추가할지)\n",
    "  -> 김정현 교수님과의 미팅을 통해 피드백을 계속 받을 예정\n",
    "- requests: 논문, 기사, 데이터 산불과 관련된 모든 문헌들을 계속해서 조사해서 다른팀이 가지지 못한 차별화 전략에 대해 조사 및 고민이 더 필요함."
   ]
  }
 ],
 "metadata": {
  "kernelspec": {
   "display_name": "Python 3",
   "language": "python",
   "name": "python3"
  },
  "language_info": {
   "name": "python",
   "version": "3.9.13"
  },
  "orig_nbformat": 4
 },
 "nbformat": 4,
 "nbformat_minor": 2
}
