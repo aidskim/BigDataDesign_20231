{
 "cells": [
  {
   "attachments": {},
   "cell_type": "markdown",
   "metadata": {},
   "source": [
    "# Weekly Report\n",
    "- Team members: 21700365 Son Juchan, 21700411 Ahn Dongsu, 22000176 Kim Jimin\n",
    "- Meeting Date: 2023.05.25\n",
    "- Project Name: Big Data Capstone Design\n",
    "- Project Goal: Capstone Topic Selection and Proposal Writing"
   ]
  },
  {
   "attachments": {},
   "cell_type": "markdown",
   "metadata": {},
   "source": [
    "### Weekly plan\n",
    "\n",
    "| Week    | Schedule        | Note                      |\n",
    "|---------|-----------------|---------------------------|\n",
    "| Week 9  | 2023.04.27<br>Topic selection and clarification | Presentation of individual interest topics |\n",
    "| Week 10 | 2023.05.03 <br> Data search and exploration  | Selection Topic: <b>Analysis of Disaster Vulnerable Areas<b>    |\n",
    "| Week 11 | 2023.05.10 <br> 문헌조사 |지민 : 논문조사, 김정현 교수님 미팅 <br>  동수 : 논문조사, 김정현 교수님 미팅 , 차별화에 대해 고민  <br> 주찬 : 논문조사 |\n",
    "| Week 12 | 2023.05.17 <br> 산불 취약지역에 대한 조사 |   동수, 지민 : 선행연구 및 사례 조사 <br> 주찬 : 기존 산불취약지도 분석    |\n",
    "| Week 13 | 2023.05.20 <br> 추가 변수 조사 | 동수:소방인프라시설 조사<br>주찬: 도로교통 데이터 조사<br>지민:인구특성 조사        |\n",
    "| Week 14 | 2023.05.27 <br>  Model development after feedback |            |\n",
    "| Week 15 | 2023.05.30  <br> Presentation preparation|        |\n",
    "| Week 16 | 2023.06.07  <br> Final presentation|      |\n",
    "\n"
   ]
  },
  {
   "attachments": {},
   "cell_type": "markdown",
   "metadata": {},
   "source": [
    "---"
   ]
  },
  {
   "attachments": {},
   "cell_type": "markdown",
   "metadata": {},
   "source": [
    "### Summary of previous meeting\n",
    "- Previous discussion: 산불 취약지도 및 선행 연구에 대한 조사<br>\n",
    "\n",
    "- Comments from Professor: No meeting <br> \n",
    "\n",
    "- Previous plan:<br> \n",
    " 우리가 하고 싶은건 산불 발생 시 피해에 영향을 주는 요소 분석\n",
    "- 필요한 데이터를 찾아와서 어떻게 추가할지 고민하기\n",
    "\n",
    "1. 피해 관련\n",
    "   1. 산불 피해액\n",
    "   2. 인명피해 정도\n",
    "   3. 산불 규모 (너비) \n",
    "\n",
    "2. 인프라 시설\n",
    "   1. 소방서 및 소방 용수시설 위치 (O)\n",
    "   2. 대피소 위치\n",
    "   3. 산불 대응센터 위치\n",
    "\n",
    "3. 도로 교통 정보\n",
    "   1. 교통량\n",
    "   2. 도로 너비\n",
    "   3. 대피시설 경로\n",
    "\n",
    "4. 인구 특성\n",
    "   1. 거주 주민 수\n",
    "   2. 취약계층 수 (노인, 장애인 등)\n",
    "   3. 취약계층 거주시설 등이 있는지\n",
    "\n"
   ]
  },
  {
   "attachments": {},
   "cell_type": "markdown",
   "metadata": {},
   "source": [
    "---"
   ]
  },
  {
   "attachments": {},
   "cell_type": "markdown",
   "metadata": {},
   "source": [
    "### Summary of working progress"
   ]
  },
  {
   "attachments": {},
   "cell_type": "markdown",
   "metadata": {},
   "source": [
    "#### 산불 발생 시 피해에 영향을 주는 요소를 분석하기 위해 산불 피해 데이터를 활용해 추가하고자 하는 변수들과 상관관계가 있는지 먼저 분석을 진행하기로 했습니다."
   ]
  },
  {
   "attachments": {},
   "cell_type": "markdown",
   "metadata": {},
   "source": [
    "- 조사현황\n",
    " \n",
    " \n",
    "1. 산불 데이터 <br>\n",
    "   산림 빅데이터 거래소의 **'산불발생위치도_시도'** 데이터 활용 \n",
    "\n",
    "| 열 이름 | 설명 |\n",
    "|---|---|\n",
    "| OCCRR_DTM | 산불 발생일시 |\n",
    "| OCUR_DYWK | 산불 발생요일 |\n",
    "| EXTING_DTM | 산불 진화일시 |\n",
    "| RQRMN_TM | 산불 진화 소요시간 |\n",
    "| ARA_NM | 산불 발생 지역명 |\n",
    "| CTPRV_NM | 산불 발생 지역 시도명 |\n",
    "| SGNG_NM | 산불 발생 지역 시군구명 |\n",
    "| EMNDN_NM | 산불 발생 지역 읍면동명 |\n",
    "| OCCCRR_RI | 산불 발생 지역 리명 |\n",
    "| ARA_LTNMB | 산불 발생 지역 지번명 |\n",
    "| CUSE_NM | 산불 발생 원인명 |\n",
    "| DMG_AREA | 산불 피해 면적 |\n",
    "| DMG_MONEY | 산불 피해 금액 |\n",
    "| TM_X | 산불 발생 위치 X 좌표 |\n",
    "| TM_Y | 산불 발생 위치 Y 좌표 |\n",
    "\n",
    "<br>\n",
    "이 변수 중에서 산불피해면적, 산불피해금액, 산불진화소요시간 등의 요소를 활용할 예정\n",
    "<br>\n",
    "\n",
    "1. 인프라 데이터<br>\n",
    "- 산불 피해면적(ha), 산불피해금액, 산불 발화지점 위도 경도.\n",
    "- 소방서 및 소방용수시설 경도, 위도.<br>\n",
    "\n",
    "- 소방서와 소방용수시설과 피해규모, 피해금액간의 관련성을 살펴보기 위해 다음과 같은 접근법으로 조사\n",
    "    - 소방서, 소방용수시설 반경 및 영향권 조사시도했으나 정보가 존재하지 않았음.\n",
    "    - 그래서 가설을 세워서 접근을 시도\n",
    "    - 가설 : 근처 소방서, 소방용수시설과 발화지점과의 거리가 멀수록 피해규모,피해금액이 클 것이다.\n",
    "    - 발화지점과 근처 소방시설(발화지점과 소방서, 소방용수시설 최단거리)과 거리가 멀수록 피해규모, 피해금액이 클 것이다. \n",
    "    - 상관관계가 있으면 프로젝트에 변수로 추가할 예정 <br>\n",
    "2. 교통 데이터<br>\n",
    "   1. 도로 너비\n",
    "   - 소방차가 원활하게 진입할 수있는 지역인지\n",
    "   - 차량 이동이 원활한 지역인지\n",
    "   2. 교통량\n",
    "   - 평소에 차량 이동량이 얼마나 있는지\n",
    "   - 이 도로를 지나다니는 차량의 종류나 크기\n",
    "   3. 대피소까지 경로\n",
    "   - 해당 지역에서 산불 대피소까지 경로가 어떤지\n",
    "   - 대피소로 이동할 수 있는 도로에 대한 접근성 <br>\n",
    "\n",
    "      국가 정보 포털 오픈 데이터 마켓에 도로(현황) 사용 -> 도로 현황, 도로 면적, 길이 사용<br>\n",
    "      한국 도로공사 오픈 데이터 -> 일자별 전국 교통량 데이터 사용<br>\n",
    "      소방차 진입 가능 도로, 대피소까지 경로 등 기준에 대한 문헌 조사 중\n",
    "<br>\n",
    "1. 인구 특성 데이터<br>\n",
    "관련 데이터\n",
    "   1. 행정안전부_지역별(행정동) 성별 연령별 주민등록 인구수_20230430<br>\n",
    "   -->  취약계층 수 (고령층 인구 밀집도 확인)\n",
    "   2. 경상북도 사회복지 시설 (장애인 거주 인원) \n",
    "   3. 보건복지부_보건/복지 현황_장애인 거주 시설 수 및 입소 현황 \n",
    "   4. 어린이집, 유치원, 학교\n",
    "   5. 병원, 산부인과\n",
    "   6. 공장 위치 파악 --> 밀도로 표현 \n",
    "   7. 주유소\n",
    "   8. 문화재/공공건물 시설물\n",
    "\n",
    "밀도 파악 방법: 시설 갯수 / (동 단위 면적)\n",
    "혹은 주변에 화재 관련 인프라가 얼마나 많이 위치해있는지 파악\n",
    "\n",
    "- DMG_AREA 피해면적 : 산불피해면적\n",
    "- DMG_MONEY 피해금액 : 산불피해금액\n",
    "과의 상관계수 구하기\n"
   ]
  },
  {
   "attachments": {},
   "cell_type": "markdown",
   "metadata": {},
   "source": [
    "---"
   ]
  },
  {
   "attachments": {},
   "cell_type": "markdown",
   "metadata": {},
   "source": [
    "### Pending assignments or requests\n"
   ]
  },
  {
   "attachments": {},
   "cell_type": "markdown",
   "metadata": {},
   "source": [
    "- 논의할 지점\n",
    "1. 산불과 연관된 정보인지?\n",
    "2. 화재와 차이점이 무엇인지?"
   ]
  },
  {
   "attachments": {},
   "cell_type": "markdown",
   "metadata": {},
   "source": [
    "각자 맡은 부분에서 필요한 데이터를 찾고 분석 방법 고려하기<br>\n"
   ]
  }
 ],
 "metadata": {
  "kernelspec": {
   "display_name": "Python 3",
   "language": "python",
   "name": "python3"
  },
  "language_info": {
   "name": "python",
   "version": "3.9.13"
  },
  "orig_nbformat": 4
 },
 "nbformat": 4,
 "nbformat_minor": 2
}
